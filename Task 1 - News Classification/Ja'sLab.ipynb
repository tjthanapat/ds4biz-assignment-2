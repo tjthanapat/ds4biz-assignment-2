{
 "cells": [
  {
   "cell_type": "code",
   "execution_count": 1,
   "metadata": {},
   "outputs": [],
   "source": [
    "import pandas as pd\n",
    "import matplotlib.pyplot as plt"
   ]
  },
  {
   "cell_type": "markdown",
   "metadata": {},
   "source": [
    "# Import tokenizer and raw data"
   ]
  },
  {
   "cell_type": "code",
   "execution_count": 2,
   "metadata": {},
   "outputs": [
    {
     "data": {
      "text/html": [
       "<div>\n",
       "<style scoped>\n",
       "    .dataframe tbody tr th:only-of-type {\n",
       "        vertical-align: middle;\n",
       "    }\n",
       "\n",
       "    .dataframe tbody tr th {\n",
       "        vertical-align: top;\n",
       "    }\n",
       "\n",
       "    .dataframe thead th {\n",
       "        text-align: right;\n",
       "    }\n",
       "</style>\n",
       "<table border=\"1\" class=\"dataframe\">\n",
       "  <thead>\n",
       "    <tr style=\"text-align: right;\">\n",
       "      <th></th>\n",
       "      <th>category</th>\n",
       "      <th>content</th>\n",
       "    </tr>\n",
       "  </thead>\n",
       "  <tbody>\n",
       "    <tr>\n",
       "      <th>0</th>\n",
       "      <td>technology</td>\n",
       "      <td>21st-Century Sports: How Digital Technology Is...</td>\n",
       "    </tr>\n",
       "    <tr>\n",
       "      <th>1</th>\n",
       "      <td>business</td>\n",
       "      <td>Asian quake hits European shares Shares in Eur...</td>\n",
       "    </tr>\n",
       "    <tr>\n",
       "      <th>2</th>\n",
       "      <td>technology</td>\n",
       "      <td>BT offers free net phone calls BT is offering ...</td>\n",
       "    </tr>\n",
       "    <tr>\n",
       "      <th>3</th>\n",
       "      <td>business</td>\n",
       "      <td>Barclays shares up on merger talk Shares in UK...</td>\n",
       "    </tr>\n",
       "    <tr>\n",
       "      <th>4</th>\n",
       "      <td>sport</td>\n",
       "      <td>Barkley fit for match in Ireland England centr...</td>\n",
       "    </tr>\n",
       "    <tr>\n",
       "      <th>...</th>\n",
       "      <td>...</td>\n",
       "      <td>...</td>\n",
       "    </tr>\n",
       "    <tr>\n",
       "      <th>1403</th>\n",
       "      <td>sport</td>\n",
       "      <td>Woodward eyes Brennan for Lions Toulouse's for...</td>\n",
       "    </tr>\n",
       "    <tr>\n",
       "      <th>1404</th>\n",
       "      <td>business</td>\n",
       "      <td>WorldCom trial starts in New York The trial of...</td>\n",
       "    </tr>\n",
       "    <tr>\n",
       "      <th>1405</th>\n",
       "      <td>business</td>\n",
       "      <td>Yukos accused of lying to court Russian oil fi...</td>\n",
       "    </tr>\n",
       "    <tr>\n",
       "      <th>1406</th>\n",
       "      <td>business</td>\n",
       "      <td>Yukos drops banks from court bid Russian oil c...</td>\n",
       "    </tr>\n",
       "    <tr>\n",
       "      <th>1407</th>\n",
       "      <td>sport</td>\n",
       "      <td>Zambia confident and cautious Zambia's technic...</td>\n",
       "    </tr>\n",
       "  </tbody>\n",
       "</table>\n",
       "<p>1408 rows × 2 columns</p>\n",
       "</div>"
      ],
      "text/plain": [
       "        category                                            content\n",
       "0     technology  21st-Century Sports: How Digital Technology Is...\n",
       "1       business  Asian quake hits European shares Shares in Eur...\n",
       "2     technology  BT offers free net phone calls BT is offering ...\n",
       "3       business  Barclays shares up on merger talk Shares in UK...\n",
       "4          sport  Barkley fit for match in Ireland England centr...\n",
       "...          ...                                                ...\n",
       "1403       sport  Woodward eyes Brennan for Lions Toulouse's for...\n",
       "1404    business  WorldCom trial starts in New York The trial of...\n",
       "1405    business  Yukos accused of lying to court Russian oil fi...\n",
       "1406    business  Yukos drops banks from court bid Russian oil c...\n",
       "1407       sport  Zambia confident and cautious Zambia's technic...\n",
       "\n",
       "[1408 rows x 2 columns]"
      ]
     },
     "execution_count": 2,
     "metadata": {},
     "output_type": "execute_result"
    }
   ],
   "source": [
    "import os\n",
    "ROOT_PATH = os.getcwd()\n",
    "\n",
    "with open(f'{ROOT_PATH}/data/datastore/article_titles_plus_contents_all.txt', mode='r', encoding='utf-8') as file:\n",
    "  raw_contents = file.read().splitlines()\n",
    "\n",
    "with open(f'{ROOT_PATH}/data/target/article_categories_all.txt', mode='r', encoding='utf-8') as file:\n",
    "  target = file.read().splitlines()\n",
    "\n",
    "raw_df = pd.DataFrame({\n",
    "    'category': target,\n",
    "    'content': raw_contents\n",
    "})\n",
    "raw_df\n"
   ]
  },
  {
   "cell_type": "code",
   "execution_count": 3,
   "metadata": {},
   "outputs": [],
   "source": [
    "raw_docs = raw_df['content']"
   ]
  },
  {
   "cell_type": "code",
   "execution_count": 4,
   "metadata": {},
   "outputs": [],
   "source": [
    "from tokenizer import wordnet_lemma_pos_tokenizer"
   ]
  },
  {
   "cell_type": "code",
   "execution_count": 5,
   "metadata": {},
   "outputs": [
    {
     "data": {
      "text/plain": [
       "['quick', 'brown', 'fox', 'jump', 'lazy', 'dog']"
      ]
     },
     "execution_count": 5,
     "metadata": {},
     "output_type": "execute_result"
    }
   ],
   "source": [
    "wordnet_lemma_pos_tokenizer(\"\"\"The quick brown foxes jump over the lazy dog.\"\"\")"
   ]
  },
  {
   "cell_type": "markdown",
   "metadata": {},
   "source": [
    "# Experiment 1\n",
    "\n",
    "1. Vectorize docs with wordnet_lemma_pos_tokenizer to TF-IDF\n",
    "2. Transform TF-IDF to 2-component LDA\n",
    "3. Classify with Decision Tree"
   ]
  },
  {
   "cell_type": "markdown",
   "metadata": {},
   "source": [
    "## Vectorize Docs"
   ]
  },
  {
   "cell_type": "code",
   "execution_count": 6,
   "metadata": {},
   "outputs": [],
   "source": [
    "from sklearn.feature_extraction.text import TfidfVectorizer\n",
    "\n",
    "vectorizer = TfidfVectorizer(tokenizer=wordnet_lemma_pos_tokenizer, min_df=.01)\n",
    "tf_idf = vectorizer.fit_transform(raw_docs)"
   ]
  },
  {
   "cell_type": "code",
   "execution_count": 7,
   "metadata": {},
   "outputs": [
    {
     "data": {
      "text/plain": [
       "2334"
      ]
     },
     "execution_count": 7,
     "metadata": {},
     "output_type": "execute_result"
    }
   ],
   "source": [
    "len(vectorizer.vocabulary_)"
   ]
  },
  {
   "cell_type": "code",
   "execution_count": 14,
   "metadata": {},
   "outputs": [],
   "source": [
    "X = tf_idf\n",
    "y = raw_df['category']"
   ]
  },
  {
   "cell_type": "code",
   "execution_count": 15,
   "metadata": {},
   "outputs": [
    {
     "data": {
      "text/plain": [
       "(1408, 2334)"
      ]
     },
     "execution_count": 15,
     "metadata": {},
     "output_type": "execute_result"
    }
   ],
   "source": [
    "X.toarray().shape"
   ]
  },
  {
   "cell_type": "markdown",
   "metadata": {},
   "source": [
    "## TF-IDF to 2-component LDA (feature transformation)"
   ]
  },
  {
   "cell_type": "code",
   "execution_count": 10,
   "metadata": {},
   "outputs": [],
   "source": [
    "from sklearn.discriminant_analysis import LinearDiscriminantAnalysis as LDA\n",
    "\n",
    "lda = LDA(n_components=2)\n",
    "X = lda.fit_transform(X.toarray(), y)"
   ]
  },
  {
   "cell_type": "code",
   "execution_count": 11,
   "metadata": {},
   "outputs": [
    {
     "data": {
      "text/plain": [
       "(1408, 2)"
      ]
     },
     "execution_count": 11,
     "metadata": {},
     "output_type": "execute_result"
    }
   ],
   "source": [
    "X.shape"
   ]
  },
  {
   "cell_type": "code",
   "execution_count": 23,
   "metadata": {},
   "outputs": [
    {
     "data": {
      "text/plain": [
       "array([[ 36.91747091,  13.67288385],\n",
       "       [-29.04586893,  14.09316416],\n",
       "       [ 36.91274825,  13.72783219],\n",
       "       ...,\n",
       "       [-29.13591577,  14.14998739],\n",
       "       [-29.1025546 ,  14.10405732],\n",
       "       [ -0.30414845, -23.28534181]])"
      ]
     },
     "execution_count": 23,
     "metadata": {},
     "output_type": "execute_result"
    }
   ],
   "source": [
    "X"
   ]
  },
  {
   "cell_type": "code",
   "execution_count": 22,
   "metadata": {},
   "outputs": [
    {
     "data": {
      "text/plain": [
       "array([ 36.91747091, -29.04586893,  36.91274825, ..., -29.13591577,\n",
       "       -29.1025546 ,  -0.30414845])"
      ]
     },
     "execution_count": 22,
     "metadata": {},
     "output_type": "execute_result"
    }
   ],
   "source": [
    "X[:,0]"
   ]
  },
  {
   "cell_type": "code",
   "execution_count": 28,
   "metadata": {},
   "outputs": [
    {
     "data": {
      "image/png": "[encoded data removed]",
      "text/plain": [
       "<Figure size 432x288 with 1 Axes>"
      ]
     },
     "metadata": {
      "needs_background": "light"
     },
     "output_type": "display_data"
    }
   ],
   "source": [
    "colors = {\n",
    "  'sport':'red',\n",
    "  'business':'green',\n",
    "  'technology':'blue'\n",
    "}\n",
    "\n",
    "for X, y in zip(X,y):\n",
    "  plt.scatter(X[0], X[1], color=colors[y])"
   ]
  },
  {
   "cell_type": "markdown",
   "metadata": {},
   "source": [
    "## Train-Test Split"
   ]
  },
  {
   "cell_type": "code",
   "execution_count": 12,
   "metadata": {},
   "outputs": [],
   "source": [
    "from sklearn.model_selection import train_test_split\n",
    "\n",
    "X_train, X_test, y_train, y_test = train_test_split(X, y, \n",
    "  test_size=.33, random_state=28, stratify=y)"
   ]
  },
  {
   "cell_type": "code",
   "execution_count": 13,
   "metadata": {},
   "outputs": [
    {
     "name": "stdout",
     "output_type": "stream",
     "text": [
      "sport         0.373277\n",
      "business      0.348887\n",
      "technology    0.277837\n",
      "Name: category, dtype: float64\n",
      "0.6697443181818182\n"
     ]
    }
   ],
   "source": [
    "print(y_train.value_counts() / y_train.value_counts().sum())\n",
    "print(y_train.value_counts().sum() / y.count().sum())"
   ]
  },
  {
   "cell_type": "code",
   "execution_count": 14,
   "metadata": {},
   "outputs": [
    {
     "name": "stdout",
     "output_type": "stream",
     "text": [
      "sport         0.374194\n",
      "business      0.348387\n",
      "technology    0.277419\n",
      "Name: category, dtype: float64\n",
      "0.3302556818181818\n"
     ]
    }
   ],
   "source": [
    "print(y_test.value_counts() / y_test.value_counts().sum())\n",
    "print(y_test.value_counts().sum() / y.count().sum())"
   ]
  },
  {
   "cell_type": "markdown",
   "metadata": {},
   "source": [
    "## Modeling"
   ]
  },
  {
   "cell_type": "code",
   "execution_count": 32,
   "metadata": {},
   "outputs": [
    {
     "data": {
      "text/plain": [
       "DecisionTreeClassifier(max_depth=7, random_state=0)"
      ]
     },
     "execution_count": 32,
     "metadata": {},
     "output_type": "execute_result"
    }
   ],
   "source": [
    "from sklearn.tree import DecisionTreeClassifier\n",
    "\n",
    "clf = DecisionTreeClassifier(random_state=0, max_depth=7)\n",
    "clf.fit(X_train, y_train)"
   ]
  },
  {
   "cell_type": "code",
   "execution_count": 33,
   "metadata": {},
   "outputs": [
    {
     "name": "stdout",
     "output_type": "stream",
     "text": [
      "              precision    recall  f1-score   support\n",
      "\n",
      "    business       1.00      1.00      1.00       162\n",
      "       sport       1.00      1.00      1.00       174\n",
      "  technology       1.00      1.00      1.00       129\n",
      "\n",
      "    accuracy                           1.00       465\n",
      "   macro avg       1.00      1.00      1.00       465\n",
      "weighted avg       1.00      1.00      1.00       465\n",
      "\n"
     ]
    }
   ],
   "source": [
    "from sklearn.metrics import classification_report\n",
    "\n",
    "y_pred = clf.predict(X_test)\n",
    "print(classification_report(y_test, y_pred))"
   ]
  },
  {
   "cell_type": "markdown",
   "metadata": {},
   "source": [
    "Suspicious Result! Long way to go."
   ]
  },
  {
   "cell_type": "code",
   "execution_count": 51,
   "metadata": {},
   "outputs": [
    {
     "data": {
      "text/plain": [
       "array(['sport'], dtype=object)"
      ]
     },
     "execution_count": 51,
     "metadata": {},
     "output_type": "execute_result"
    }
   ],
   "source": [
    "# Cristiano Ronaldo: Manchester United forward says he was close to joining rivals City\n",
    "# Sport News\n",
    "# https://www.bbc.com/sport/football/63656472\n",
    "\n",
    "unseen_X = \"\"\"\n",
    "Cristiano Ronaldo says he was close to joining Manchester City before following his \"heart\" by re-joining Manchester United.\n",
    "\n",
    "The Portugal forward made headlines earlier this week after telling Talk TV he felt \"betrayed\" by the club.\n",
    "\n",
    "The first part of the full interview was released on Wednesday in which he gave more detail on his version of events at Old Trafford.\n",
    "\n",
    "\"Honestly, it was close,\" he said of potentially joining City.\n",
    "\n",
    "Ronaldo returned to Old Trafford from Juventus in August 2021 - 11 years after he left the club to join Real Madrid.\n",
    "\n",
    "At the time it was reported he was wanted by City boss Pep Guardiola and, although Ronaldo confirmed the interest, he said he decided to sign for United after speaking with his old manager Sir Alex Ferguson.\n",
    "\n",
    "The 37-year-old added: \"As you know, my history in Manchester United, your heart, you're feeling the way that you did before, makes the difference. And of course, Sir Alex Ferguson.\n",
    "\n",
    "\"I spoke with him. He said to me, 'it's impossible for you to come to Manchester City'. And I say 'OK, boss'.\" \n",
    "\n",
    "Ronaldo, who will miss Portugal's friendly with Nigeria on Thursday because of a stomach bug, criticised the attitude and professionalism of young footballers during the interview, accusing them of \"not respecting\" their older and more experienced team-mates.\n",
    "\n",
    "\"Their hunger [is different],\" he added. \"I think they have things more easily, everything's easy, they don't suffer - and they don't care.\n",
    "\n",
    "\"I don't mean only a few in Manchester United, but all the teams in all leagues in the world, the youngers are not the same of my generation.\n",
    "\n",
    "\"But you cannot blame them, because it's part of the life and the new generation, the new technologies that distract them.\"\n",
    "\"\"\"\n",
    "\n",
    "unseen_X = vectorizer.transform([unseen_X]).toarray()\n",
    "unseen_X = lda.transform(unseen_X)\n",
    "clf.predict(unseen_X)"
   ]
  },
  {
   "cell_type": "code",
   "execution_count": 47,
   "metadata": {},
   "outputs": [
    {
     "data": {
      "text/plain": [
       "array(['sport'], dtype=object)"
      ]
     },
     "execution_count": 47,
     "metadata": {},
     "output_type": "execute_result"
    }
   ],
   "source": [
    "# After McDonald’s deal, Krispy Kreme seeks other partners\n",
    "# Biz News [half of article]\n",
    "# https://www.foodbusinessnews.net/articles/22655-after-mcdonalds-deal-krispy-kreme-seeks-other-partners\n",
    "\n",
    "unseen_X = \"\"\"\n",
    "Executives of Krispy Kreme, Inc. expect partnerships, such as a recent one with McDonald’s, and international expansion to keep increasing global points of access, which reflect all locations where the company’s fresh donuts and cookies can be purchased.\n",
    "\n",
    "Charlotte-based Krispy Kreme in October said its donuts will be available in six-packs or individually at nine McDonald’s restaurants in Louisville, Ky., and surrounding areas.\n",
    "\n",
    "“Obviously, this is a small test to partner with a global company, but we think this represents the type of opportunity that shows why we remain very confident in our long-term goal of achieving more than 50,000 points of access globally,” said Michael J. Tattersfield, president and chief executive officer, in a Nov. 15 earnings call to discuss third-quarter financial results. “We believe that strong global partners could be a great fit to significantly grow our DFD (delivered-fresh-daily) business. We continue to look for new partners and channels across the globe as we build out our hub-and-spoke model to increase access to customers, and we look forward to updating you on this journey.”\n",
    "\n",
    "Joshua Charlesworth, chief operating officer and chief financial officer, added, “I mean, we do have clearly excess capacity across the US to build out the DFD door network, whether it’s Walmart, McDonald’s or others.”\n",
    "\n",
    "Global points of access in the quarter increased 17% when compared to a year ago. Consumers now have access to Krispy Kreme products in more than 11,700 locations globally. International expansion played a role.\n",
    "\n",
    "\"\"\"\n",
    "\n",
    "unseen_X = vectorizer.transform([unseen_X]).toarray()\n",
    "unseen_X = lda.transform(unseen_X)\n",
    "clf.predict(unseen_X)"
   ]
  },
  {
   "cell_type": "code",
   "execution_count": 50,
   "metadata": {},
   "outputs": [
    {
     "data": {
      "text/plain": [
       "array(['business'], dtype=object)"
      ]
     },
     "execution_count": 50,
     "metadata": {},
     "output_type": "execute_result"
    }
   ],
   "source": [
    "# After McDonald’s deal, Krispy Kreme seeks other partners\n",
    "# Biz News\n",
    "# https://www.foodbusinessnews.net/articles/22655-after-mcdonalds-deal-krispy-kreme-seeks-other-partners\n",
    "\n",
    "unseen_X = \"\"\"\n",
    "Executives of Krispy Kreme, Inc. expect partnerships, such as a recent one with McDonald’s, and international expansion to keep increasing global points of access, which reflect all locations where the company’s fresh donuts and cookies can be purchased.\n",
    "\n",
    "Charlotte-based Krispy Kreme in October said its donuts will be available in six-packs or individually at nine McDonald’s restaurants in Louisville, Ky., and surrounding areas.\n",
    "\n",
    "“Obviously, this is a small test to partner with a global company, but we think this represents the type of opportunity that shows why we remain very confident in our long-term goal of achieving more than 50,000 points of access globally,” said Michael J. Tattersfield, president and chief executive officer, in a Nov. 15 earnings call to discuss third-quarter financial results. “We believe that strong global partners could be a great fit to significantly grow our DFD (delivered-fresh-daily) business. We continue to look for new partners and channels across the globe as we build out our hub-and-spoke model to increase access to customers, and we look forward to updating you on this journey.”\n",
    "\n",
    "Joshua Charlesworth, chief operating officer and chief financial officer, added, “I mean, we do have clearly excess capacity across the US to build out the DFD door network, whether it’s Walmart, McDonald’s or others.”\n",
    "\n",
    "Global points of access in the quarter increased 17% when compared to a year ago. Consumers now have access to Krispy Kreme products in more than 11,700 locations globally. International expansion played a role.\n",
    "\n",
    "“As you know, our goal is to open in at least three new countries per year going forward,” Mr. Tattersfield said. “So far, in 2022, we’ve signed development deals in seven international countries, including announcing Jamaica this morning as well as a recently announced joint venture in France for 2023, which together represent more than 5,000 points of access or nearly 50% of our existing points of access.”\n",
    "\n",
    "A loss attributable to Krispy Kreme was $13.1 million in the quarter, which compared with a loss of $5.7 million in the previous year’s third quarter. A negative impact of $5 million came from impairment charges related to planned shop closures, Mr. Tattersfield said. Adjusted EBITDA slipped 7% to $38.5 million from $41.4 million. Negative impacts came from higher promotional activity through Labor Day (Sept. 5) and increased labor and commodity costs.\n",
    "\n",
    "“But since September, we’ve significantly reduced our promotional activity without any impact on revenue, which has led to significantly improved gross profit trends,” Mr. Tattersfield said.\n",
    "\n",
    "Krispy Kreme began raising prices for the first time this fiscal year in the third quarter.\n",
    "\n",
    "“I would definitely say that was the beginning of a catch-up,” Mr. Charlesworth said. “We certainly didn’t anticipate the level of food inflation in the US or the UK at the beginning of the year as we saw, and we’re pleased with the success of those pricing initiatives. We’ve then taken further pricing in October in both UK and the US. We do find that, in this environment of price increases, we can almost instantaneously increase the pricing on retail, but obviously, we need to work with our partners on DFD. So that does lag a little bit behind.”\n",
    "\n",
    "Third-quarter net revenue increased 10% to $377.5 million from $342.8 million. Foreign currency translation had a negative impact of 3.3% on net revenue because of a strong UD dollar. Organic revenue increased 12%.\n",
    "\n",
    "In the United States and Canada, net revenue in the third quarter increased 12% to $252.6 million from $225.8 million. Adjusted EBITDA increased 10% to $21.9 million. In International, net revenue increased 5.4% to $91.9 million from $87.3 million. Organic revenue grew 16%.\n",
    "\n",
    "“In our international market, all of our international countries, including those in Market Development, had positive organic growth in the third quarter, led by robust performances in Mexico, Australia and Japan,” Mr. Tattersfield said.\n",
    "\n",
    "Adjusted EBITDA in International fell 16% to $18.3 million due to a $2.4 million negative impact from the higher US dollar and a challenging environment in the United Kingdom.\n",
    "\n",
    "In Market Development, which is made up of franchise businesses around the world, net revenue increased 11% to $33 million from $29.7 million driven by a 33% increase in points of access. Adjusted EBITDA increased 15% to $10.4 million.\n",
    "\n",
    "Over the first three quarters, a loss attributable to Krispy Kreme of $12.9 million compared with a loss of $25.8 million in the same time of the previous year. Net revenue increased 11% to $1.13 billion from $1.01 billion.\n",
    "\n",
    "\"\"\"\n",
    "\n",
    "unseen_X = vectorizer.transform([unseen_X]).toarray()\n",
    "unseen_X = lda.transform(unseen_X)\n",
    "clf.predict(unseen_X)"
   ]
  },
  {
   "cell_type": "markdown",
   "metadata": {},
   "source": [
    "# Experiment 2\n",
    "\n",
    "- TF-IDF Vectorize with wordnet_lemma_pos_tokenizer\n",
    "- TF-IDF to 2-component LDA\n",
    "- LDA as Classifier"
   ]
  },
  {
   "cell_type": "code",
   "execution_count": 16,
   "metadata": {},
   "outputs": [],
   "source": [
    "from sklearn.feature_extraction.text import TfidfVectorizer\n",
    "\n",
    "vectorizer = TfidfVectorizer(tokenizer=wordnet_lemma_pos_tokenizer, min_df=.01)\n",
    "tf_idf = vectorizer.fit_transform(raw_docs)"
   ]
  },
  {
   "cell_type": "code",
   "execution_count": 20,
   "metadata": {},
   "outputs": [],
   "source": [
    "X = tf_idf.toarray()\n",
    "y = raw_df['category']"
   ]
  },
  {
   "cell_type": "code",
   "execution_count": 21,
   "metadata": {},
   "outputs": [],
   "source": [
    "from sklearn.model_selection import train_test_split\n",
    "\n",
    "X_train, X_test, y_train, y_test = train_test_split(X, y, \n",
    "  test_size=.33, random_state=28, stratify=y)"
   ]
  },
  {
   "cell_type": "code",
   "execution_count": 22,
   "metadata": {},
   "outputs": [
    {
     "data": {
      "text/plain": [
       "array([[ 30.53050428,  11.25895978],\n",
       "       [  0.1180954 , -18.79597215],\n",
       "       [-24.42760098,  11.12401768],\n",
       "       ...,\n",
       "       [-24.3935061 ,  11.08964323],\n",
       "       [ 30.51711794,  11.24034487],\n",
       "       [ 30.52931162,  11.23010995]])"
      ]
     },
     "execution_count": 22,
     "metadata": {},
     "output_type": "execute_result"
    }
   ],
   "source": [
    "from sklearn.discriminant_analysis import LinearDiscriminantAnalysis as LDA\n",
    "\n",
    "lda = LDA(n_components=2)\n",
    "lda.fit_transform(X_train, y_train)"
   ]
  },
  {
   "cell_type": "code",
   "execution_count": 23,
   "metadata": {},
   "outputs": [
    {
     "name": "stdout",
     "output_type": "stream",
     "text": [
      "              precision    recall  f1-score   support\n",
      "\n",
      "    business       0.97      0.94      0.95       162\n",
      "       sport       0.92      0.98      0.95       174\n",
      "  technology       0.98      0.94      0.96       129\n",
      "\n",
      "    accuracy                           0.95       465\n",
      "   macro avg       0.96      0.95      0.95       465\n",
      "weighted avg       0.95      0.95      0.95       465\n",
      "\n"
     ]
    }
   ],
   "source": [
    "from sklearn.metrics import classification_report\n",
    "\n",
    "y_pred = lda.predict(X_test)\n",
    "print(classification_report(y_test, y_pred))"
   ]
  }
 ],
 "metadata": {
  "kernelspec": {
   "display_name": "Python 3.9.7 ('base')",
   "language": "python",
   "name": "python3"
  },
  "language_info": {
   "codemirror_mode": {
    "name": "ipython",
    "version": 3
   },
   "file_extension": ".py",
   "mimetype": "text/x-python",
   "name": "python",
   "nbconvert_exporter": "python",
   "pygments_lexer": "ipython3",
   "version": "3.9.7"
  },
  "orig_nbformat": 4,
  "vscode": {
   "interpreter": {
    "hash": "2fe7d652243bcdb6cde2e69617dc664bf14361ea2de14b139d2fec55ec2ae7e2"
   }
  }
 },
 "nbformat": 4,
 "nbformat_minor": 2
}
