{
 "cells": [
  {
   "cell_type": "code",
   "execution_count": 1,
   "metadata": {},
   "outputs": [],
   "source": [
    "import pandas as pd\n",
    "import matplotlib.pyplot as plt"
   ]
  },
  {
   "cell_type": "markdown",
   "metadata": {},
   "source": [
    "# Import raw data"
   ]
  },
  {
   "cell_type": "code",
   "execution_count": 2,
   "metadata": {},
   "outputs": [],
   "source": [
    "import os\n",
    "ROOT_PATH = os.getcwd()\n",
    "\n",
    "\n",
    "### Code Cell 3.1.1 ###\n",
    "\n",
    "with open(f'{ROOT_PATH}/data/datastore/article_contents_all.txt',\n",
    "          mode='r', encoding='utf-8') as file:\n",
    "    contents = file.read().splitlines()\n",
    "\n",
    "### Code Cell 3.1.2 ###\n",
    "\n",
    "with open(f'{ROOT_PATH}/data/datastore/article_titles_plus_contents_all.txt',\n",
    "          mode='r', encoding='utf-8') as file:\n",
    "    contents_with_title = file.read().splitlines()\n",
    "\n",
    "### Code Cell 3.1.3 ###\n",
    "\n",
    "with open(f'{ROOT_PATH}/data/target/article_categories_all.txt',\n",
    "          mode='r', encoding='utf-8') as file:\n",
    "    targets = file.read().splitlines()\n"
   ]
  },
  {
   "cell_type": "markdown",
   "metadata": {},
   "source": [
    "# Import tokenizers"
   ]
  },
  {
   "cell_type": "code",
   "execution_count": 3,
   "metadata": {},
   "outputs": [],
   "source": [
    "from tokenizer import word_tokenizer\n",
    "from tokenizer import porter_stem_tokenizer\n",
    "from tokenizer import snowball_stem_tokenizer\n",
    "from tokenizer import lancaster_stem_tokenizer\n",
    "from tokenizer import wordnet_lemma_tokenizer\n",
    "from tokenizer import wordnet_lemma_pos_tokenizer"
   ]
  },
  {
   "cell_type": "code",
   "execution_count": 4,
   "metadata": {},
   "outputs": [
    {
     "data": {
      "text/plain": [
       "['quick', 'brown', 'fox', 'jump', 'child', 'play', 'lazy', 'dog']"
      ]
     },
     "execution_count": 4,
     "metadata": {},
     "output_type": "execute_result"
    }
   ],
   "source": [
    "text = \"\"\"The quick brown foxes jump over the children playing with lazy dog.\"\"\"\n",
    "\n",
    "wordnet_lemma_pos_tokenizer(text)"
   ]
  },
  {
   "cell_type": "code",
   "execution_count": 5,
   "metadata": {},
   "outputs": [],
   "source": [
    "tokenizers = [word_tokenizer, porter_stem_tokenizer,\n",
    "              snowball_stem_tokenizer, lancaster_stem_tokenizer, \n",
    "              wordnet_lemma_tokenizer, wordnet_lemma_pos_tokenizer]"
   ]
  },
  {
   "cell_type": "markdown",
   "metadata": {},
   "source": [
    "# Experiment 1\n",
    "\n",
    "1. Vectorize docs with wordnet_lemma_pos_tokenizer to TF-IDF\n",
    "2. Transform TF-IDF to 2-component LDA\n",
    "3. Classify with Decision Tree"
   ]
  },
  {
   "cell_type": "markdown",
   "metadata": {},
   "source": [
    "## Vectorize Docs"
   ]
  },
  {
   "cell_type": "code",
   "execution_count": 6,
   "metadata": {},
   "outputs": [],
   "source": [
    "from sklearn.feature_extraction.text import TfidfVectorizer\n",
    "\n",
    "vectorizer = TfidfVectorizer(tokenizer=wordnet_lemma_pos_tokenizer, min_df=.01)\n",
    "tf_idf = vectorizer.fit_transform(raw_docs)"
   ]
  },
  {
   "cell_type": "code",
   "execution_count": 7,
   "metadata": {},
   "outputs": [
    {
     "data": {
      "text/plain": [
       "2334"
      ]
     },
     "execution_count": 7,
     "metadata": {},
     "output_type": "execute_result"
    }
   ],
   "source": [
    "len(vectorizer.vocabulary_)"
   ]
  },
  {
   "cell_type": "code",
   "execution_count": 14,
   "metadata": {},
   "outputs": [],
   "source": [
    "X = tf_idf\n",
    "y = raw_df['category']"
   ]
  },
  {
   "cell_type": "code",
   "execution_count": 15,
   "metadata": {},
   "outputs": [
    {
     "data": {
      "text/plain": [
       "(1408, 2334)"
      ]
     },
     "execution_count": 15,
     "metadata": {},
     "output_type": "execute_result"
    }
   ],
   "source": [
    "X.toarray().shape"
   ]
  },
  {
   "cell_type": "markdown",
   "metadata": {},
   "source": [
    "## TF-IDF to 2-component LDA (feature transformation)"
   ]
  },
  {
   "cell_type": "code",
   "execution_count": 10,
   "metadata": {},
   "outputs": [],
   "source": [
    "from sklearn.discriminant_analysis import LinearDiscriminantAnalysis as LDA\n",
    "\n",
    "lda = LDA(n_components=2)\n",
    "X = lda.fit_transform(X.toarray(), y)"
   ]
  },
  {
   "cell_type": "code",
   "execution_count": 11,
   "metadata": {},
   "outputs": [
    {
     "data": {
      "text/plain": [
       "(1408, 2)"
      ]
     },
     "execution_count": 11,
     "metadata": {},
     "output_type": "execute_result"
    }
   ],
   "source": [
    "X.shape"
   ]
  },
  {
   "cell_type": "code",
   "execution_count": 23,
   "metadata": {},
   "outputs": [
    {
     "data": {
      "text/plain": [
       "array([[ 36.91747091,  13.67288385],\n",
       "       [-29.04586893,  14.09316416],\n",
       "       [ 36.91274825,  13.72783219],\n",
       "       ...,\n",
       "       [-29.13591577,  14.14998739],\n",
       "       [-29.1025546 ,  14.10405732],\n",
       "       [ -0.30414845, -23.28534181]])"
      ]
     },
     "execution_count": 23,
     "metadata": {},
     "output_type": "execute_result"
    }
   ],
   "source": [
    "X"
   ]
  },
  {
   "cell_type": "code",
   "execution_count": 22,
   "metadata": {},
   "outputs": [
    {
     "data": {
      "text/plain": [
       "array([ 36.91747091, -29.04586893,  36.91274825, ..., -29.13591577,\n",
       "       -29.1025546 ,  -0.30414845])"
      ]
     },
     "execution_count": 22,
     "metadata": {},
     "output_type": "execute_result"
    }
   ],
   "source": [
    "X[:,0]"
   ]
  },
  {
   "cell_type": "code",
   "execution_count": 28,
   "metadata": {},
   "outputs": [
    {
     "data": {
      "image/png": "[encoded data removed]",
      "text/plain": [
       "<Figure size 432x288 with 1 Axes>"
      ]
     },
     "metadata": {
      "needs_background": "light"
     },
     "output_type": "display_data"
    }
   ],
   "source": [
    "colors = {\n",
    "  'sport':'red',\n",
    "  'business':'green',\n",
    "  'technology':'blue'\n",
    "}\n",
    "\n",
    "for X, y in zip(X,y):\n",
    "  plt.scatter(X[0], X[1], color=colors[y])"
   ]
  },
  {
   "cell_type": "markdown",
   "metadata": {},
   "source": [
    "## Train-Test Split"
   ]
  },
  {
   "cell_type": "code",
   "execution_count": 12,
   "metadata": {},
   "outputs": [],
   "source": [
    "from sklearn.model_selection import train_test_split\n",
    "\n",
    "X_train, X_test, y_train, y_test = train_test_split(X, y, \n",
    "  test_size=.33, random_state=28, stratify=y)"
   ]
  },
  {
   "cell_type": "code",
   "execution_count": 13,
   "metadata": {},
   "outputs": [
    {
     "name": "stdout",
     "output_type": "stream",
     "text": [
      "sport         0.373277\n",
      "business      0.348887\n",
      "technology    0.277837\n",
      "Name: category, dtype: float64\n",
      "0.6697443181818182\n"
     ]
    }
   ],
   "source": [
    "print(y_train.value_counts() / y_train.value_counts().sum())\n",
    "print(y_train.value_counts().sum() / y.count().sum())"
   ]
  },
  {
   "cell_type": "code",
   "execution_count": 14,
   "metadata": {},
   "outputs": [
    {
     "name": "stdout",
     "output_type": "stream",
     "text": [
      "sport         0.374194\n",
      "business      0.348387\n",
      "technology    0.277419\n",
      "Name: category, dtype: float64\n",
      "0.3302556818181818\n"
     ]
    }
   ],
   "source": [
    "print(y_test.value_counts() / y_test.value_counts().sum())\n",
    "print(y_test.value_counts().sum() / y.count().sum())"
   ]
  },
  {
   "cell_type": "markdown",
   "metadata": {},
   "source": [
    "## Modeling"
   ]
  },
  {
   "cell_type": "code",
   "execution_count": 32,
   "metadata": {},
   "outputs": [
    {
     "data": {
      "text/plain": [
       "DecisionTreeClassifier(max_depth=7, random_state=0)"
      ]
     },
     "execution_count": 32,
     "metadata": {},
     "output_type": "execute_result"
    }
   ],
   "source": [
    "from sklearn.tree import DecisionTreeClassifier\n",
    "\n",
    "clf = DecisionTreeClassifier(random_state=0, max_depth=7)\n",
    "clf.fit(X_train, y_train)"
   ]
  },
  {
   "cell_type": "code",
   "execution_count": 33,
   "metadata": {},
   "outputs": [
    {
     "name": "stdout",
     "output_type": "stream",
     "text": [
      "              precision    recall  f1-score   support\n",
      "\n",
      "    business       1.00      1.00      1.00       162\n",
      "       sport       1.00      1.00      1.00       174\n",
      "  technology       1.00      1.00      1.00       129\n",
      "\n",
      "    accuracy                           1.00       465\n",
      "   macro avg       1.00      1.00      1.00       465\n",
      "weighted avg       1.00      1.00      1.00       465\n",
      "\n"
     ]
    }
   ],
   "source": [
    "from sklearn.metrics import classification_report\n",
    "\n",
    "y_pred = clf.predict(X_test)\n",
    "print(classification_report(y_test, y_pred))"
   ]
  },
  {
   "cell_type": "markdown",
   "metadata": {},
   "source": [
    "Suspicious Result! Long way to go."
   ]
  },
  {
   "cell_type": "code",
   "execution_count": 51,
   "metadata": {},
   "outputs": [
    {
     "data": {
      "text/plain": [
       "array(['sport'], dtype=object)"
      ]
     },
     "execution_count": 51,
     "metadata": {},
     "output_type": "execute_result"
    }
   ],
   "source": [
    "# Cristiano Ronaldo: Manchester United forward says he was close to joining rivals City\n",
    "# Sport News\n",
    "# https://www.bbc.com/sport/football/63656472\n",
    "\n",
    "unseen_X = \"\"\"\n",
    "Cristiano Ronaldo says he was close to joining Manchester City before following his \"heart\" by re-joining Manchester United.\n",
    "\n",
    "The Portugal forward made headlines earlier this week after telling Talk TV he felt \"betrayed\" by the club.\n",
    "\n",
    "The first part of the full interview was released on Wednesday in which he gave more detail on his version of events at Old Trafford.\n",
    "\n",
    "\"Honestly, it was close,\" he said of potentially joining City.\n",
    "\n",
    "Ronaldo returned to Old Trafford from Juventus in August 2021 - 11 years after he left the club to join Real Madrid.\n",
    "\n",
    "At the time it was reported he was wanted by City boss Pep Guardiola and, although Ronaldo confirmed the interest, he said he decided to sign for United after speaking with his old manager Sir Alex Ferguson.\n",
    "\n",
    "The 37-year-old added: \"As you know, my history in Manchester United, your heart, you're feeling the way that you did before, makes the difference. And of course, Sir Alex Ferguson.\n",
    "\n",
    "\"I spoke with him. He said to me, 'it's impossible for you to come to Manchester City'. And I say 'OK, boss'.\" \n",
    "\n",
    "Ronaldo, who will miss Portugal's friendly with Nigeria on Thursday because of a stomach bug, criticised the attitude and professionalism of young footballers during the interview, accusing them of \"not respecting\" their older and more experienced team-mates.\n",
    "\n",
    "\"Their hunger [is different],\" he added. \"I think they have things more easily, everything's easy, they don't suffer - and they don't care.\n",
    "\n",
    "\"I don't mean only a few in Manchester United, but all the teams in all leagues in the world, the youngers are not the same of my generation.\n",
    "\n",
    "\"But you cannot blame them, because it's part of the life and the new generation, the new technologies that distract them.\"\n",
    "\"\"\"\n",
    "\n",
    "unseen_X = vectorizer.transform([unseen_X]).toarray()\n",
    "unseen_X = lda.transform(unseen_X)\n",
    "clf.predict(unseen_X)"
   ]
  },
  {
   "cell_type": "code",
   "execution_count": 47,
   "metadata": {},
   "outputs": [
    {
     "data": {
      "text/plain": [
       "array(['sport'], dtype=object)"
      ]
     },
     "execution_count": 47,
     "metadata": {},
     "output_type": "execute_result"
    }
   ],
   "source": [
    "# After McDonald’s deal, Krispy Kreme seeks other partners\n",
    "# Biz News [half of article]\n",
    "# https://www.foodbusinessnews.net/articles/22655-after-mcdonalds-deal-krispy-kreme-seeks-other-partners\n",
    "\n",
    "unseen_X = \"\"\"\n",
    "Executives of Krispy Kreme, Inc. expect partnerships, such as a recent one with McDonald’s, and international expansion to keep increasing global points of access, which reflect all locations where the company’s fresh donuts and cookies can be purchased.\n",
    "\n",
    "Charlotte-based Krispy Kreme in October said its donuts will be available in six-packs or individually at nine McDonald’s restaurants in Louisville, Ky., and surrounding areas.\n",
    "\n",
    "“Obviously, this is a small test to partner with a global company, but we think this represents the type of opportunity that shows why we remain very confident in our long-term goal of achieving more than 50,000 points of access globally,” said Michael J. Tattersfield, president and chief executive officer, in a Nov. 15 earnings call to discuss third-quarter financial results. “We believe that strong global partners could be a great fit to significantly grow our DFD (delivered-fresh-daily) business. We continue to look for new partners and channels across the globe as we build out our hub-and-spoke model to increase access to customers, and we look forward to updating you on this journey.”\n",
    "\n",
    "Joshua Charlesworth, chief operating officer and chief financial officer, added, “I mean, we do have clearly excess capacity across the US to build out the DFD door network, whether it’s Walmart, McDonald’s or others.”\n",
    "\n",
    "Global points of access in the quarter increased 17% when compared to a year ago. Consumers now have access to Krispy Kreme products in more than 11,700 locations globally. International expansion played a role.\n",
    "\n",
    "\"\"\"\n",
    "\n",
    "unseen_X = vectorizer.transform([unseen_X]).toarray()\n",
    "unseen_X = lda.transform(unseen_X)\n",
    "clf.predict(unseen_X)"
   ]
  },
  {
   "cell_type": "code",
   "execution_count": 50,
   "metadata": {},
   "outputs": [
    {
     "data": {
      "text/plain": [
       "array(['business'], dtype=object)"
      ]
     },
     "execution_count": 50,
     "metadata": {},
     "output_type": "execute_result"
    }
   ],
   "source": [
    "# After McDonald’s deal, Krispy Kreme seeks other partners\n",
    "# Biz News\n",
    "# https://www.foodbusinessnews.net/articles/22655-after-mcdonalds-deal-krispy-kreme-seeks-other-partners\n",
    "\n",
    "unseen_X = \"\"\"\n",
    "Executives of Krispy Kreme, Inc. expect partnerships, such as a recent one with McDonald’s, and international expansion to keep increasing global points of access, which reflect all locations where the company’s fresh donuts and cookies can be purchased.\n",
    "\n",
    "Charlotte-based Krispy Kreme in October said its donuts will be available in six-packs or individually at nine McDonald’s restaurants in Louisville, Ky., and surrounding areas.\n",
    "\n",
    "“Obviously, this is a small test to partner with a global company, but we think this represents the type of opportunity that shows why we remain very confident in our long-term goal of achieving more than 50,000 points of access globally,” said Michael J. Tattersfield, president and chief executive officer, in a Nov. 15 earnings call to discuss third-quarter financial results. “We believe that strong global partners could be a great fit to significantly grow our DFD (delivered-fresh-daily) business. We continue to look for new partners and channels across the globe as we build out our hub-and-spoke model to increase access to customers, and we look forward to updating you on this journey.”\n",
    "\n",
    "Joshua Charlesworth, chief operating officer and chief financial officer, added, “I mean, we do have clearly excess capacity across the US to build out the DFD door network, whether it’s Walmart, McDonald’s or others.”\n",
    "\n",
    "Global points of access in the quarter increased 17% when compared to a year ago. Consumers now have access to Krispy Kreme products in more than 11,700 locations globally. International expansion played a role.\n",
    "\n",
    "“As you know, our goal is to open in at least three new countries per year going forward,” Mr. Tattersfield said. “So far, in 2022, we’ve signed development deals in seven international countries, including announcing Jamaica this morning as well as a recently announced joint venture in France for 2023, which together represent more than 5,000 points of access or nearly 50% of our existing points of access.”\n",
    "\n",
    "A loss attributable to Krispy Kreme was $13.1 million in the quarter, which compared with a loss of $5.7 million in the previous year’s third quarter. A negative impact of $5 million came from impairment charges related to planned shop closures, Mr. Tattersfield said. Adjusted EBITDA slipped 7% to $38.5 million from $41.4 million. Negative impacts came from higher promotional activity through Labor Day (Sept. 5) and increased labor and commodity costs.\n",
    "\n",
    "“But since September, we’ve significantly reduced our promotional activity without any impact on revenue, which has led to significantly improved gross profit trends,” Mr. Tattersfield said.\n",
    "\n",
    "Krispy Kreme began raising prices for the first time this fiscal year in the third quarter.\n",
    "\n",
    "“I would definitely say that was the beginning of a catch-up,” Mr. Charlesworth said. “We certainly didn’t anticipate the level of food inflation in the US or the UK at the beginning of the year as we saw, and we’re pleased with the success of those pricing initiatives. We’ve then taken further pricing in October in both UK and the US. We do find that, in this environment of price increases, we can almost instantaneously increase the pricing on retail, but obviously, we need to work with our partners on DFD. So that does lag a little bit behind.”\n",
    "\n",
    "Third-quarter net revenue increased 10% to $377.5 million from $342.8 million. Foreign currency translation had a negative impact of 3.3% on net revenue because of a strong UD dollar. Organic revenue increased 12%.\n",
    "\n",
    "In the United States and Canada, net revenue in the third quarter increased 12% to $252.6 million from $225.8 million. Adjusted EBITDA increased 10% to $21.9 million. In International, net revenue increased 5.4% to $91.9 million from $87.3 million. Organic revenue grew 16%.\n",
    "\n",
    "“In our international market, all of our international countries, including those in Market Development, had positive organic growth in the third quarter, led by robust performances in Mexico, Australia and Japan,” Mr. Tattersfield said.\n",
    "\n",
    "Adjusted EBITDA in International fell 16% to $18.3 million due to a $2.4 million negative impact from the higher US dollar and a challenging environment in the United Kingdom.\n",
    "\n",
    "In Market Development, which is made up of franchise businesses around the world, net revenue increased 11% to $33 million from $29.7 million driven by a 33% increase in points of access. Adjusted EBITDA increased 15% to $10.4 million.\n",
    "\n",
    "Over the first three quarters, a loss attributable to Krispy Kreme of $12.9 million compared with a loss of $25.8 million in the same time of the previous year. Net revenue increased 11% to $1.13 billion from $1.01 billion.\n",
    "\n",
    "\"\"\"\n",
    "\n",
    "unseen_X = vectorizer.transform([unseen_X]).toarray()\n",
    "unseen_X = lda.transform(unseen_X)\n",
    "clf.predict(unseen_X)"
   ]
  },
  {
   "cell_type": "markdown",
   "metadata": {},
   "source": [
    "# Experiment 2\n",
    "\n",
    "- TF-IDF Vectorize with wordnet_lemma_pos_tokenizer\n",
    "- TF-IDF to 2-component LDA\n",
    "- LDA as Classifier"
   ]
  },
  {
   "cell_type": "code",
   "execution_count": 16,
   "metadata": {},
   "outputs": [],
   "source": [
    "from sklearn.feature_extraction.text import TfidfVectorizer\n",
    "\n",
    "vectorizer = TfidfVectorizer(tokenizer=wordnet_lemma_pos_tokenizer, min_df=.01)\n",
    "tf_idf = vectorizer.fit_transform(raw_docs)"
   ]
  },
  {
   "cell_type": "code",
   "execution_count": 20,
   "metadata": {},
   "outputs": [],
   "source": [
    "X = tf_idf.toarray()\n",
    "y = raw_df['category']"
   ]
  },
  {
   "cell_type": "code",
   "execution_count": 21,
   "metadata": {},
   "outputs": [],
   "source": [
    "from sklearn.model_selection import train_test_split\n",
    "\n",
    "X_train, X_test, y_train, y_test = train_test_split(X, y, \n",
    "  test_size=.33, random_state=28, stratify=y)"
   ]
  },
  {
   "cell_type": "code",
   "execution_count": 22,
   "metadata": {},
   "outputs": [
    {
     "data": {
      "text/plain": [
       "array([[ 30.53050428,  11.25895978],\n",
       "       [  0.1180954 , -18.79597215],\n",
       "       [-24.42760098,  11.12401768],\n",
       "       ...,\n",
       "       [-24.3935061 ,  11.08964323],\n",
       "       [ 30.51711794,  11.24034487],\n",
       "       [ 30.52931162,  11.23010995]])"
      ]
     },
     "execution_count": 22,
     "metadata": {},
     "output_type": "execute_result"
    }
   ],
   "source": [
    "from sklearn.discriminant_analysis import LinearDiscriminantAnalysis as LDA\n",
    "\n",
    "lda = LDA(n_components=2)\n",
    "lda.fit_transform(X_train, y_train)"
   ]
  },
  {
   "cell_type": "code",
   "execution_count": 23,
   "metadata": {},
   "outputs": [
    {
     "name": "stdout",
     "output_type": "stream",
     "text": [
      "              precision    recall  f1-score   support\n",
      "\n",
      "    business       0.97      0.94      0.95       162\n",
      "       sport       0.92      0.98      0.95       174\n",
      "  technology       0.98      0.94      0.96       129\n",
      "\n",
      "    accuracy                           0.95       465\n",
      "   macro avg       0.96      0.95      0.95       465\n",
      "weighted avg       0.95      0.95      0.95       465\n",
      "\n"
     ]
    }
   ],
   "source": [
    "from sklearn.metrics import classification_report\n",
    "\n",
    "y_pred = lda.predict(X_test)\n",
    "print(classification_report(y_test, y_pred))"
   ]
  },
  {
   "cell_type": "markdown",
   "metadata": {},
   "source": [
    "# Experiment 3\n",
    "\n",
    "1. Vectorize docs with wordnet_lemma_pos_tokenizer to TF-IDF\n",
    "2. Transform TF-IDF to 2-component LDA\n",
    "3. Classify with Gaussian Naive Bayes"
   ]
  },
  {
   "cell_type": "code",
   "execution_count": 24,
   "metadata": {},
   "outputs": [],
   "source": [
    "from sklearn.feature_extraction.text import TfidfVectorizer\n",
    "\n",
    "vectorizer = TfidfVectorizer(tokenizer=wordnet_lemma_pos_tokenizer, min_df=.01)\n",
    "tf_idf = vectorizer.fit_transform(raw_docs)"
   ]
  },
  {
   "cell_type": "code",
   "execution_count": 26,
   "metadata": {},
   "outputs": [],
   "source": [
    "from sklearn.discriminant_analysis import LinearDiscriminantAnalysis as LDA\n",
    "\n",
    "X = tf_idf.toarray()\n",
    "y = raw_df['category']\n",
    "\n",
    "lda = LDA(n_components=2)\n",
    "X = lda.fit_transform(X, y)"
   ]
  },
  {
   "cell_type": "code",
   "execution_count": 31,
   "metadata": {},
   "outputs": [],
   "source": [
    "from sklearn.model_selection import train_test_split\n",
    "\n",
    "X_train, X_test, y_train, y_test = train_test_split(X, y, \n",
    "  test_size=.33, random_state=28, stratify=y)"
   ]
  },
  {
   "cell_type": "code",
   "execution_count": 34,
   "metadata": {},
   "outputs": [
    {
     "data": {
      "text/plain": [
       "GaussianNB()"
      ]
     },
     "execution_count": 34,
     "metadata": {},
     "output_type": "execute_result"
    }
   ],
   "source": [
    "from sklearn.naive_bayes import GaussianNB\n",
    "from sklearn.metrics import classification_report\n",
    "\n",
    "clf = GaussianNB()\n",
    "clf.fit(X_train, y_train)"
   ]
  },
  {
   "cell_type": "code",
   "execution_count": 35,
   "metadata": {},
   "outputs": [
    {
     "name": "stdout",
     "output_type": "stream",
     "text": [
      "              precision    recall  f1-score   support\n",
      "\n",
      "    business       1.00      1.00      1.00       294\n",
      "       sport       1.00      1.00      1.00       315\n",
      "  technology       1.00      1.00      1.00       235\n",
      "\n",
      "    accuracy                           1.00       844\n",
      "   macro avg       1.00      1.00      1.00       844\n",
      "weighted avg       1.00      1.00      1.00       844\n",
      "\n"
     ]
    }
   ],
   "source": [
    "y_pred = clf.predict(X_train)\n",
    "print(classification_report(y_train, y_pred))"
   ]
  },
  {
   "cell_type": "code",
   "execution_count": 36,
   "metadata": {},
   "outputs": [
    {
     "name": "stdout",
     "output_type": "stream",
     "text": [
      "              precision    recall  f1-score   support\n",
      "\n",
      "    business       1.00      1.00      1.00       197\n",
      "       sport       1.00      1.00      1.00       211\n",
      "  technology       0.99      1.00      1.00       156\n",
      "\n",
      "    accuracy                           1.00       564\n",
      "   macro avg       1.00      1.00      1.00       564\n",
      "weighted avg       1.00      1.00      1.00       564\n",
      "\n"
     ]
    }
   ],
   "source": [
    "y_pred = clf.predict(X_test)\n",
    "print(classification_report(y_test, y_pred))"
   ]
  },
  {
   "cell_type": "markdown",
   "metadata": {},
   "source": [
    "# Experiment 4\n",
    "\n",
    "Compare tokenizers with fixed model, GaussianNB"
   ]
  },
  {
   "cell_type": "code",
   "execution_count": 79,
   "metadata": {},
   "outputs": [],
   "source": [
    "from sklearn.feature_extraction.text import TfidfVectorizer\n",
    "from sklearn.naive_bayes import GaussianNB\n",
    "from sklearn.model_selection import cross_val_score\n",
    "\n",
    "results = {\n",
    "  'tokenizer':list(),\n",
    "  'acc':list(),\n",
    "}\n",
    "\n",
    "for tokenizer in tokenizers:\n",
    "  vectorizer = TfidfVectorizer(tokenizer=tokenizer, min_df=.01)\n",
    "  tf_idf = vectorizer.fit_transform(raw_docs)\n",
    "\n",
    "  X = tf_idf.toarray()\n",
    "  y = raw_df['category']\n",
    "  \n",
    "  clf = GaussianNB()  \n",
    "  cv_score = cross_val_score(clf, X, y, cv=5).mean()\n",
    "\n",
    "  results['tokenizer'].append(tokenizer.__name__)\n",
    "  results['acc'].append(cv_score)\n"
   ]
  },
  {
   "cell_type": "code",
   "execution_count": 77,
   "metadata": {},
   "outputs": [
    {
     "data": {
      "text/html": [
       "<div>\n",
       "<style scoped>\n",
       "    .dataframe tbody tr th:only-of-type {\n",
       "        vertical-align: middle;\n",
       "    }\n",
       "\n",
       "    .dataframe tbody tr th {\n",
       "        vertical-align: top;\n",
       "    }\n",
       "\n",
       "    .dataframe thead th {\n",
       "        text-align: right;\n",
       "    }\n",
       "</style>\n",
       "<table border=\"1\" class=\"dataframe\">\n",
       "  <thead>\n",
       "    <tr style=\"text-align: right;\">\n",
       "      <th></th>\n",
       "      <th>tokenizer</th>\n",
       "      <th>acc</th>\n",
       "    </tr>\n",
       "  </thead>\n",
       "  <tbody>\n",
       "    <tr>\n",
       "      <th>3</th>\n",
       "      <td>wordnet_lemma_tokenizer</td>\n",
       "      <td>0.939638</td>\n",
       "    </tr>\n",
       "    <tr>\n",
       "      <th>1</th>\n",
       "      <td>snowball_stem_tokenizer</td>\n",
       "      <td>0.937503</td>\n",
       "    </tr>\n",
       "    <tr>\n",
       "      <th>4</th>\n",
       "      <td>wordnet_lemma_pos_tokenizer</td>\n",
       "      <td>0.937495</td>\n",
       "    </tr>\n",
       "    <tr>\n",
       "      <th>0</th>\n",
       "      <td>porter_stem_tokenizer</td>\n",
       "      <td>0.933240</td>\n",
       "    </tr>\n",
       "    <tr>\n",
       "      <th>2</th>\n",
       "      <td>lancaster_stem_tokenizer</td>\n",
       "      <td>0.931822</td>\n",
       "    </tr>\n",
       "  </tbody>\n",
       "</table>\n",
       "</div>"
      ],
      "text/plain": [
       "                     tokenizer       acc\n",
       "3      wordnet_lemma_tokenizer  0.939638\n",
       "1      snowball_stem_tokenizer  0.937503\n",
       "4  wordnet_lemma_pos_tokenizer  0.937495\n",
       "0        porter_stem_tokenizer  0.933240\n",
       "2     lancaster_stem_tokenizer  0.931822"
      ]
     },
     "execution_count": 77,
     "metadata": {},
     "output_type": "execute_result"
    }
   ],
   "source": [
    "results_df = pd.DataFrame(results)\n",
    "results_df.sort_values(by=['acc'], ascending=False)"
   ]
  },
  {
   "cell_type": "markdown",
   "metadata": {},
   "source": [
    "# Experiment 5\n",
    "\n",
    "Inspect 2-component LDA features with different tokenizers"
   ]
  },
  {
   "cell_type": "code",
   "execution_count": 75,
   "metadata": {},
   "outputs": [
    {
     "name": "stdout",
     "output_type": "stream",
     "text": [
      "porter_stem_tokenizer\n"
     ]
    },
    {
     "data": {
      "image/png": "[encoded data removed]",
      "text/plain": [
       "<Figure size 432x288 with 1 Axes>"
      ]
     },
     "metadata": {
      "needs_background": "light"
     },
     "output_type": "display_data"
    },
    {
     "name": "stdout",
     "output_type": "stream",
     "text": [
      "snowball_stem_tokenizer\n"
     ]
    },
    {
     "data": {
      "image/png": "[encoded data removed]",
      "text/plain": [
       "<Figure size 432x288 with 1 Axes>"
      ]
     },
     "metadata": {
      "needs_background": "light"
     },
     "output_type": "display_data"
    },
    {
     "name": "stdout",
     "output_type": "stream",
     "text": [
      "lancaster_stem_tokenizer\n"
     ]
    },
    {
     "data": {
      "image/png": "[encoded data removed]",
      "text/plain": [
       "<Figure size 432x288 with 1 Axes>"
      ]
     },
     "metadata": {
      "needs_background": "light"
     },
     "output_type": "display_data"
    },
    {
     "name": "stdout",
     "output_type": "stream",
     "text": [
      "wordnet_lemma_tokenizer\n"
     ]
    },
    {
     "data": {
      "image/png": "[encoded data removed]",
      "text/plain": [
       "<Figure size 432x288 with 1 Axes>"
      ]
     },
     "metadata": {
      "needs_background": "light"
     },
     "output_type": "display_data"
    },
    {
     "name": "stdout",
     "output_type": "stream",
     "text": [
      "wordnet_lemma_pos_tokenizer\n"
     ]
    },
    {
     "data": {
      "image/png": "[encoded data removed]",
      "text/plain": [
       "<Figure size 432x288 with 1 Axes>"
      ]
     },
     "metadata": {
      "needs_background": "light"
     },
     "output_type": "display_data"
    }
   ],
   "source": [
    "from sklearn.feature_extraction.text import TfidfVectorizer\n",
    "from sklearn.discriminant_analysis import LinearDiscriminantAnalysis as LDA\n",
    "from sklearn.naive_bayes import GaussianNB\n",
    "from sklearn.model_selection import cross_val_score\n",
    "\n",
    "for tokenizer in tokenizers:\n",
    "  vectorizer = TfidfVectorizer(tokenizer=tokenizer, min_df=.01)\n",
    "  tf_idf = vectorizer.fit_transform(raw_docs)\n",
    "\n",
    "  X = tf_idf.toarray()\n",
    "  y = raw_df['category']\n",
    "\n",
    "  lda = LDA(n_components=2)\n",
    "  X = lda.fit_transform(X, y)\n",
    "\n",
    "  colors = {\n",
    "    'sport':'red',\n",
    "    'business':'green',\n",
    "    'technology':'blue'\n",
    "  }\n",
    "\n",
    "  print(tokenizer.__name__)\n",
    "\n",
    "  for X, y in zip(X,y):\n",
    "    plt.scatter(X[0], X[1], color=colors[y])\n",
    "  plt.show()\n"
   ]
  },
  {
   "cell_type": "markdown",
   "metadata": {},
   "source": [
    "# Experiment 6\n",
    "\n",
    "Compare tokenizers (with LDA transformation) with fixed model"
   ]
  },
  {
   "cell_type": "code",
   "execution_count": 83,
   "metadata": {},
   "outputs": [],
   "source": [
    "from sklearn.feature_extraction.text import TfidfVectorizer\n",
    "from sklearn.discriminant_analysis import LinearDiscriminantAnalysis as LDA\n",
    "from sklearn.naive_bayes import GaussianNB\n",
    "from sklearn.model_selection import cross_val_score\n",
    "\n",
    "results = {\n",
    "  'tokenizer':list(),\n",
    "  'acc':list(),\n",
    "}\n",
    "\n",
    "for tokenizer in tokenizers:\n",
    "  vectorizer = TfidfVectorizer(tokenizer=tokenizer, min_df=.01)\n",
    "  tf_idf = vectorizer.fit_transform(raw_docs)\n",
    "\n",
    "  X = tf_idf.toarray()\n",
    "  y = raw_df['category']\n",
    "\n",
    "  lda = LDA(n_components=2)\n",
    "  X = lda.fit_transform(X, y)\n",
    "\n",
    "  clf = GaussianNB()  \n",
    "  cv_score = cross_val_score(clf, X, y, cv=5).mean()\n",
    "\n",
    "  results['tokenizer'].append(tokenizer.__name__)\n",
    "  results['acc'].append(cv_score)"
   ]
  },
  {
   "cell_type": "code",
   "execution_count": 84,
   "metadata": {},
   "outputs": [
    {
     "data": {
      "text/html": [
       "<div>\n",
       "<style scoped>\n",
       "    .dataframe tbody tr th:only-of-type {\n",
       "        vertical-align: middle;\n",
       "    }\n",
       "\n",
       "    .dataframe tbody tr th {\n",
       "        vertical-align: top;\n",
       "    }\n",
       "\n",
       "    .dataframe thead th {\n",
       "        text-align: right;\n",
       "    }\n",
       "</style>\n",
       "<table border=\"1\" class=\"dataframe\">\n",
       "  <thead>\n",
       "    <tr style=\"text-align: right;\">\n",
       "      <th></th>\n",
       "      <th>tokenizer</th>\n",
       "      <th>acc</th>\n",
       "    </tr>\n",
       "  </thead>\n",
       "  <tbody>\n",
       "    <tr>\n",
       "      <th>0</th>\n",
       "      <td>porter_stem_tokenizer</td>\n",
       "      <td>0.997158</td>\n",
       "    </tr>\n",
       "    <tr>\n",
       "      <th>1</th>\n",
       "      <td>snowball_stem_tokenizer</td>\n",
       "      <td>0.997158</td>\n",
       "    </tr>\n",
       "    <tr>\n",
       "      <th>2</th>\n",
       "      <td>lancaster_stem_tokenizer</td>\n",
       "      <td>0.997158</td>\n",
       "    </tr>\n",
       "    <tr>\n",
       "      <th>3</th>\n",
       "      <td>wordnet_lemma_tokenizer</td>\n",
       "      <td>0.997158</td>\n",
       "    </tr>\n",
       "    <tr>\n",
       "      <th>4</th>\n",
       "      <td>wordnet_lemma_pos_tokenizer</td>\n",
       "      <td>0.997158</td>\n",
       "    </tr>\n",
       "  </tbody>\n",
       "</table>\n",
       "</div>"
      ],
      "text/plain": [
       "                     tokenizer       acc\n",
       "0        porter_stem_tokenizer  0.997158\n",
       "1      snowball_stem_tokenizer  0.997158\n",
       "2     lancaster_stem_tokenizer  0.997158\n",
       "3      wordnet_lemma_tokenizer  0.997158\n",
       "4  wordnet_lemma_pos_tokenizer  0.997158"
      ]
     },
     "execution_count": 84,
     "metadata": {},
     "output_type": "execute_result"
    }
   ],
   "source": [
    "results_df = pd.DataFrame(results)\n",
    "results_df.sort_values(by=['acc'], ascending=False)"
   ]
  },
  {
   "cell_type": "markdown",
   "metadata": {},
   "source": [
    "# Experiment 7"
   ]
  },
  {
   "cell_type": "code",
   "execution_count": 144,
   "metadata": {},
   "outputs": [],
   "source": [
    "from sklearn.feature_extraction.text import TfidfVectorizer\n",
    "from sklearn.discriminant_analysis import LinearDiscriminantAnalysis as LDA\n",
    "\n",
    "def text_preprocess(tokenizer, raw_documents, \n",
    "  targets, vectorizer_min_df:float, lda_reduction:bool=False, lda_components:int=None):\n",
    "\n",
    "  vectorizer = TfidfVectorizer(tokenizer=tokenizer, min_df=vectorizer_min_df)\n",
    "  tf_idf = vectorizer.fit_transform(raw_documents)\n",
    "\n",
    "  X = tf_idf.toarray()\n",
    "  y = targets\n",
    "  \n",
    "  if (lda_reduction):\n",
    "    lda = LDA(n_components=lda_components)\n",
    "    X = lda.fit_transform(X, y)\n",
    "\n",
    "  return X, y"
   ]
  },
  {
   "cell_type": "code",
   "execution_count": 98,
   "metadata": {},
   "outputs": [],
   "source": [
    "from sklearn.model_selection import GridSearchCV\n",
    "\n",
    "def parameter_tuning(model, params, X, y):\n",
    "  # 5 fold, n_jobs=-1 (use all core of processors)\n",
    "  clf = GridSearchCV(model, params, cv=5, n_jobs=-1, verbose=1) \n",
    "  result = clf.fit(X, y)\n",
    "  best_params = result.best_params_\n",
    "  best_acc = result.best_score_\n",
    "  return best_params, best_acc"
   ]
  },
  {
   "cell_type": "code",
   "execution_count": 123,
   "metadata": {},
   "outputs": [],
   "source": [
    "from sklearn.ensemble import RandomForestClassifier\n",
    "from sklearn.neighbors import KNeighborsClassifier\n",
    "\n",
    "models = [\n",
    "  {\n",
    "    'model':RandomForestClassifier(),\n",
    "    'params': {\n",
    "      'random_state': [28],\n",
    "      'max_depth': list(range(2, 21, 2)),\n",
    "      'min_samples_split': list(range(2, 21, 2))\n",
    "    }\n",
    "  },\n",
    "  {\n",
    "    'model':KNeighborsClassifier(),\n",
    "    'params': {\n",
    "      'n_neighbors' : list(range(3, 20))\n",
    "    }\n",
    "  }\n",
    "]\n",
    "\n",
    "raw_docs = raw_df['content']\n",
    "targets = raw_df['category']"
   ]
  },
  {
   "cell_type": "markdown",
   "metadata": {},
   "source": [
    "## Without LDA reduction"
   ]
  },
  {
   "cell_type": "code",
   "execution_count": 131,
   "metadata": {},
   "outputs": [
    {
     "name": "stdout",
     "output_type": "stream",
     "text": [
      "Searching params for RandomForestClassifier using porter_stem_tokenizer\n",
      "Fitting 5 folds for each of 100 candidates, totalling 500 fits\n",
      "Found best params: {'max_depth': 18, 'min_samples_split': 10, 'random_state': 28} with accuracy 0.9765553620554757\n",
      "----------\n",
      "Searching params for KNeighborsClassifier using porter_stem_tokenizer\n",
      "Fitting 5 folds for each of 17 candidates, totalling 85 fits\n",
      "Found best params: {'n_neighbors': 7} with accuracy 0.9673304560712752\n",
      "----------\n",
      "Searching params for RandomForestClassifier using snowball_stem_tokenizer\n",
      "Fitting 5 folds for each of 100 candidates, totalling 500 fits\n",
      "Found best params: {'max_depth': 16, 'min_samples_split': 12, 'random_state': 28} with accuracy 0.9772696297418036\n",
      "----------\n",
      "Searching params for KNeighborsClassifier using snowball_stem_tokenizer\n",
      "Fitting 5 folds for each of 17 candidates, totalling 85 fits\n",
      "Found best params: {'n_neighbors': 7} with accuracy 0.9687514197016733\n",
      "----------\n",
      "Searching params for RandomForestClassifier using lancaster_stem_tokenizer\n",
      "Fitting 5 folds for each of 100 candidates, totalling 500 fits\n",
      "Found best params: {'max_depth': 18, 'min_samples_split': 12, 'random_state': 28} with accuracy 0.9737210065369375\n",
      "----------\n",
      "Searching params for KNeighborsClassifier using lancaster_stem_tokenizer\n",
      "Fitting 5 folds for each of 17 candidates, totalling 85 fits\n",
      "Found best params: {'n_neighbors': 15} with accuracy 0.9666187122990333\n",
      "----------\n",
      "Searching params for RandomForestClassifier using wordnet_lemma_tokenizer\n",
      "Fitting 5 folds for each of 100 candidates, totalling 500 fits\n",
      "Found best params: {'max_depth': 18, 'min_samples_split': 8, 'random_state': 28} with accuracy 0.9722924711642816\n",
      "----------\n",
      "Searching params for KNeighborsClassifier using wordnet_lemma_tokenizer\n",
      "Fitting 5 folds for each of 17 candidates, totalling 85 fits\n",
      "Found best params: {'n_neighbors': 14} with accuracy 0.9651977486686352\n",
      "----------\n",
      "Searching params for RandomForestClassifier using wordnet_lemma_pos_tokenizer\n",
      "Fitting 5 folds for each of 100 candidates, totalling 500 fits\n",
      "Found best params: {'max_depth': 18, 'min_samples_split': 14, 'random_state': 28} with accuracy 0.9715882991342975\n",
      "----------\n",
      "Searching params for KNeighborsClassifier using wordnet_lemma_pos_tokenizer\n",
      "Fitting 5 folds for each of 17 candidates, totalling 85 fits\n",
      "Found best params: {'n_neighbors': 17} with accuracy 0.9652027964968072\n",
      "----------\n"
     ]
    }
   ],
   "source": [
    "results = {\n",
    "  'model': list(),\n",
    "  'tokenizer': list(),\n",
    "  'best_params': list(),\n",
    "  'best_acc': list()\n",
    "}\n",
    "\n",
    "for tokenizer in tokenizers:\n",
    "  X, y = text_preprocess(tokenizer=tokenizer, \n",
    "    raw_documents=raw_docs, targets=targets, vectorizer_min_df=.01)\n",
    "    \n",
    "  for model in models:\n",
    "    model_name = type(model).__name__\n",
    "    tokenizer_name = tokenizer.__name__\n",
    "\n",
    "    print(f'Searching params for {model_name} using {tokenizer_name}')\n",
    "\n",
    "    best_params, best_acc = parameter_tuning(model['model'], \n",
    "      model['params'], X, y)\n",
    "    \n",
    "    print(f'Found best params: {best_params} with accuracy {best_acc}')\n",
    "\n",
    "    results['model'].append(model_name)\n",
    "    results['tokenizer'].append(tokenizer_name)\n",
    "    results['best_params'].append(best_params)\n",
    "    results['best_acc'].append(best_acc)\n",
    "    print('-'*10)\n",
    "\n",
    "results_without_lda = results\n",
    "    "
   ]
  },
  {
   "cell_type": "code",
   "execution_count": 139,
   "metadata": {},
   "outputs": [
    {
     "data": {
      "text/html": [
       "<div>\n",
       "<style scoped>\n",
       "    .dataframe tbody tr th:only-of-type {\n",
       "        vertical-align: middle;\n",
       "    }\n",
       "\n",
       "    .dataframe tbody tr th {\n",
       "        vertical-align: top;\n",
       "    }\n",
       "\n",
       "    .dataframe thead th {\n",
       "        text-align: right;\n",
       "    }\n",
       "</style>\n",
       "<table border=\"1\" class=\"dataframe\">\n",
       "  <thead>\n",
       "    <tr style=\"text-align: right;\">\n",
       "      <th></th>\n",
       "      <th>model</th>\n",
       "      <th>tokenizer</th>\n",
       "      <th>best_params</th>\n",
       "      <th>best_acc</th>\n",
       "    </tr>\n",
       "  </thead>\n",
       "  <tbody>\n",
       "    <tr>\n",
       "      <th>2</th>\n",
       "      <td>RandomForestClassifier</td>\n",
       "      <td>snowball_stem_tokenizer</td>\n",
       "      <td>{'max_depth': 16, 'min_samples_split': 12, 'ra...</td>\n",
       "      <td>0.977270</td>\n",
       "    </tr>\n",
       "    <tr>\n",
       "      <th>0</th>\n",
       "      <td>RandomForestClassifier</td>\n",
       "      <td>porter_stem_tokenizer</td>\n",
       "      <td>{'max_depth': 18, 'min_samples_split': 10, 'ra...</td>\n",
       "      <td>0.976555</td>\n",
       "    </tr>\n",
       "    <tr>\n",
       "      <th>4</th>\n",
       "      <td>RandomForestClassifier</td>\n",
       "      <td>lancaster_stem_tokenizer</td>\n",
       "      <td>{'max_depth': 18, 'min_samples_split': 12, 'ra...</td>\n",
       "      <td>0.973721</td>\n",
       "    </tr>\n",
       "    <tr>\n",
       "      <th>6</th>\n",
       "      <td>RandomForestClassifier</td>\n",
       "      <td>wordnet_lemma_tokenizer</td>\n",
       "      <td>{'max_depth': 18, 'min_samples_split': 8, 'ran...</td>\n",
       "      <td>0.972292</td>\n",
       "    </tr>\n",
       "    <tr>\n",
       "      <th>8</th>\n",
       "      <td>RandomForestClassifier</td>\n",
       "      <td>wordnet_lemma_pos_tokenizer</td>\n",
       "      <td>{'max_depth': 18, 'min_samples_split': 14, 'ra...</td>\n",
       "      <td>0.971588</td>\n",
       "    </tr>\n",
       "    <tr>\n",
       "      <th>3</th>\n",
       "      <td>KNeighborsClassifier</td>\n",
       "      <td>snowball_stem_tokenizer</td>\n",
       "      <td>{'n_neighbors': 7}</td>\n",
       "      <td>0.968751</td>\n",
       "    </tr>\n",
       "    <tr>\n",
       "      <th>1</th>\n",
       "      <td>KNeighborsClassifier</td>\n",
       "      <td>porter_stem_tokenizer</td>\n",
       "      <td>{'n_neighbors': 7}</td>\n",
       "      <td>0.967330</td>\n",
       "    </tr>\n",
       "    <tr>\n",
       "      <th>5</th>\n",
       "      <td>KNeighborsClassifier</td>\n",
       "      <td>lancaster_stem_tokenizer</td>\n",
       "      <td>{'n_neighbors': 15}</td>\n",
       "      <td>0.966619</td>\n",
       "    </tr>\n",
       "    <tr>\n",
       "      <th>9</th>\n",
       "      <td>KNeighborsClassifier</td>\n",
       "      <td>wordnet_lemma_pos_tokenizer</td>\n",
       "      <td>{'n_neighbors': 17}</td>\n",
       "      <td>0.965203</td>\n",
       "    </tr>\n",
       "    <tr>\n",
       "      <th>7</th>\n",
       "      <td>KNeighborsClassifier</td>\n",
       "      <td>wordnet_lemma_tokenizer</td>\n",
       "      <td>{'n_neighbors': 14}</td>\n",
       "      <td>0.965198</td>\n",
       "    </tr>\n",
       "  </tbody>\n",
       "</table>\n",
       "</div>"
      ],
      "text/plain": [
       "                    model                    tokenizer  \\\n",
       "2  RandomForestClassifier      snowball_stem_tokenizer   \n",
       "0  RandomForestClassifier        porter_stem_tokenizer   \n",
       "4  RandomForestClassifier     lancaster_stem_tokenizer   \n",
       "6  RandomForestClassifier      wordnet_lemma_tokenizer   \n",
       "8  RandomForestClassifier  wordnet_lemma_pos_tokenizer   \n",
       "3    KNeighborsClassifier      snowball_stem_tokenizer   \n",
       "1    KNeighborsClassifier        porter_stem_tokenizer   \n",
       "5    KNeighborsClassifier     lancaster_stem_tokenizer   \n",
       "9    KNeighborsClassifier  wordnet_lemma_pos_tokenizer   \n",
       "7    KNeighborsClassifier      wordnet_lemma_tokenizer   \n",
       "\n",
       "                                         best_params  best_acc  \n",
       "2  {'max_depth': 16, 'min_samples_split': 12, 'ra...  0.977270  \n",
       "0  {'max_depth': 18, 'min_samples_split': 10, 'ra...  0.976555  \n",
       "4  {'max_depth': 18, 'min_samples_split': 12, 'ra...  0.973721  \n",
       "6  {'max_depth': 18, 'min_samples_split': 8, 'ran...  0.972292  \n",
       "8  {'max_depth': 18, 'min_samples_split': 14, 'ra...  0.971588  \n",
       "3                                 {'n_neighbors': 7}  0.968751  \n",
       "1                                 {'n_neighbors': 7}  0.967330  \n",
       "5                                {'n_neighbors': 15}  0.966619  \n",
       "9                                {'n_neighbors': 17}  0.965203  \n",
       "7                                {'n_neighbors': 14}  0.965198  "
      ]
     },
     "execution_count": 139,
     "metadata": {},
     "output_type": "execute_result"
    }
   ],
   "source": [
    "results_df = pd.DataFrame(results_without_lda)\n",
    "results_df.sort_values(by=['best_acc'], ascending=False)"
   ]
  },
  {
   "cell_type": "code",
   "execution_count": 140,
   "metadata": {},
   "outputs": [
    {
     "data": {
      "text/plain": [
       "{'model': 'RandomForestClassifier',\n",
       " 'tokenizer': 'snowball_stem_tokenizer',\n",
       " 'best_params': {'max_depth': 16, 'min_samples_split': 12, 'random_state': 28},\n",
       " 'best_acc': 0.9772696297418036}"
      ]
     },
     "execution_count": 140,
     "metadata": {},
     "output_type": "execute_result"
    }
   ],
   "source": [
    "results_df.loc[2].to_dict()"
   ]
  },
  {
   "cell_type": "markdown",
   "metadata": {},
   "source": [
    "## With LDA reduction"
   ]
  },
  {
   "cell_type": "code",
   "execution_count": 129,
   "metadata": {},
   "outputs": [
    {
     "name": "stdout",
     "output_type": "stream",
     "text": [
      "Searching params for RandomForestClassifier using porter_stem_tokenizer\n",
      "Fitting 5 folds for each of 100 candidates, totalling 500 fits\n",
      "Found best params: {'max_depth': 2, 'min_samples_split': 2, 'random_state': 28} with accuracy 0.997158072739204\n",
      "----------\n",
      "Searching params for KNeighborsClassifier using porter_stem_tokenizer\n",
      "Fitting 5 folds for each of 17 candidates, totalling 85 fits\n",
      "Found best params: {'n_neighbors': 3} with accuracy 0.997158072739204\n",
      "----------\n",
      "Searching params for RandomForestClassifier using snowball_stem_tokenizer\n",
      "Fitting 5 folds for each of 100 candidates, totalling 500 fits\n",
      "Found best params: {'max_depth': 2, 'min_samples_split': 2, 'random_state': 28} with accuracy 0.997158072739204\n",
      "----------\n",
      "Searching params for KNeighborsClassifier using snowball_stem_tokenizer\n",
      "Fitting 5 folds for each of 17 candidates, totalling 85 fits\n",
      "Found best params: {'n_neighbors': 3} with accuracy 0.997158072739204\n",
      "----------\n",
      "Searching params for RandomForestClassifier using lancaster_stem_tokenizer\n",
      "Fitting 5 folds for each of 100 candidates, totalling 500 fits\n",
      "Found best params: {'max_depth': 2, 'min_samples_split': 2, 'random_state': 28} with accuracy 0.997158072739204\n",
      "----------\n",
      "Searching params for KNeighborsClassifier using lancaster_stem_tokenizer\n",
      "Fitting 5 folds for each of 17 candidates, totalling 85 fits\n",
      "Found best params: {'n_neighbors': 3} with accuracy 0.997158072739204\n",
      "----------\n",
      "Searching params for RandomForestClassifier using wordnet_lemma_tokenizer\n",
      "Fitting 5 folds for each of 100 candidates, totalling 500 fits\n",
      "Found best params: {'max_depth': 2, 'min_samples_split': 2, 'random_state': 28} with accuracy 0.9985790363696021\n",
      "----------\n",
      "Searching params for KNeighborsClassifier using wordnet_lemma_tokenizer\n",
      "Fitting 5 folds for each of 17 candidates, totalling 85 fits\n",
      "Found best params: {'n_neighbors': 3} with accuracy 0.9985790363696021\n",
      "----------\n",
      "Searching params for RandomForestClassifier using wordnet_lemma_pos_tokenizer\n",
      "Fitting 5 folds for each of 100 candidates, totalling 500 fits\n",
      "Found best params: {'max_depth': 4, 'min_samples_split': 2, 'random_state': 28} with accuracy 0.99786729259736\n",
      "----------\n",
      "Searching params for KNeighborsClassifier using wordnet_lemma_pos_tokenizer\n",
      "Fitting 5 folds for each of 17 candidates, totalling 85 fits\n",
      "Found best params: {'n_neighbors': 3} with accuracy 0.997869816511446\n",
      "----------\n"
     ]
    }
   ],
   "source": [
    "from sklearn.ensemble import RandomForestClassifier\n",
    "from sklearn.neighbors import KNeighborsClassifier\n",
    "\n",
    "results = {\n",
    "  'model': list(),\n",
    "  'tokenizer': list(),\n",
    "  'best_params': list(),\n",
    "  'best_acc': list()\n",
    "}\n",
    "\n",
    "for tokenizer in tokenizers:\n",
    "  X, y = text_preprocess(tokenizer=tokenizer, \n",
    "    raw_documents=raw_docs, targets=targets, vectorizer_min_df=.01, \n",
    "    lda_reduction=True, lda_components=2)\n",
    "  \n",
    "  for model in models:\n",
    "    model_name = type(model).__name__\n",
    "    tokenizer_name = tokenizer.__name__\n",
    "\n",
    "    print(f'Searching params for {model_name} using {tokenizer_name}')\n",
    "    \n",
    "    best_params, best_acc = parameter_tuning(model['model'], \n",
    "      model['params'], X, y)\n",
    "    \n",
    "    print(f'Found best params: {best_params} with accuracy {best_acc}')\n",
    "    \n",
    "    results['model'].append(model_name)\n",
    "    results['tokenizer'].append(tokenizer_name)\n",
    "    results['best_params'].append(best_params)\n",
    "    results['best_acc'].append(best_acc)\n",
    "    print('-'*10)\n",
    "\n",
    "results_with_lda = results\n",
    "    "
   ]
  },
  {
   "cell_type": "code",
   "execution_count": 133,
   "metadata": {},
   "outputs": [
    {
     "data": {
      "text/html": [
       "<div>\n",
       "<style scoped>\n",
       "    .dataframe tbody tr th:only-of-type {\n",
       "        vertical-align: middle;\n",
       "    }\n",
       "\n",
       "    .dataframe tbody tr th {\n",
       "        vertical-align: top;\n",
       "    }\n",
       "\n",
       "    .dataframe thead th {\n",
       "        text-align: right;\n",
       "    }\n",
       "</style>\n",
       "<table border=\"1\" class=\"dataframe\">\n",
       "  <thead>\n",
       "    <tr style=\"text-align: right;\">\n",
       "      <th></th>\n",
       "      <th>model</th>\n",
       "      <th>tokenizer</th>\n",
       "      <th>best_params</th>\n",
       "      <th>best_acc</th>\n",
       "    </tr>\n",
       "  </thead>\n",
       "  <tbody>\n",
       "    <tr>\n",
       "      <th>6</th>\n",
       "      <td>RandomForestClassifier</td>\n",
       "      <td>wordnet_lemma_tokenizer</td>\n",
       "      <td>{'max_depth': 2, 'min_samples_split': 2, 'rand...</td>\n",
       "      <td>0.998579</td>\n",
       "    </tr>\n",
       "    <tr>\n",
       "      <th>7</th>\n",
       "      <td>KNeighborsClassifier</td>\n",
       "      <td>wordnet_lemma_tokenizer</td>\n",
       "      <td>{'n_neighbors': 3}</td>\n",
       "      <td>0.998579</td>\n",
       "    </tr>\n",
       "    <tr>\n",
       "      <th>9</th>\n",
       "      <td>KNeighborsClassifier</td>\n",
       "      <td>wordnet_lemma_pos_tokenizer</td>\n",
       "      <td>{'n_neighbors': 3}</td>\n",
       "      <td>0.997870</td>\n",
       "    </tr>\n",
       "    <tr>\n",
       "      <th>8</th>\n",
       "      <td>RandomForestClassifier</td>\n",
       "      <td>wordnet_lemma_pos_tokenizer</td>\n",
       "      <td>{'max_depth': 4, 'min_samples_split': 2, 'rand...</td>\n",
       "      <td>0.997867</td>\n",
       "    </tr>\n",
       "    <tr>\n",
       "      <th>0</th>\n",
       "      <td>RandomForestClassifier</td>\n",
       "      <td>porter_stem_tokenizer</td>\n",
       "      <td>{'max_depth': 2, 'min_samples_split': 2, 'rand...</td>\n",
       "      <td>0.997158</td>\n",
       "    </tr>\n",
       "    <tr>\n",
       "      <th>1</th>\n",
       "      <td>KNeighborsClassifier</td>\n",
       "      <td>porter_stem_tokenizer</td>\n",
       "      <td>{'n_neighbors': 3}</td>\n",
       "      <td>0.997158</td>\n",
       "    </tr>\n",
       "    <tr>\n",
       "      <th>2</th>\n",
       "      <td>RandomForestClassifier</td>\n",
       "      <td>snowball_stem_tokenizer</td>\n",
       "      <td>{'max_depth': 2, 'min_samples_split': 2, 'rand...</td>\n",
       "      <td>0.997158</td>\n",
       "    </tr>\n",
       "    <tr>\n",
       "      <th>3</th>\n",
       "      <td>KNeighborsClassifier</td>\n",
       "      <td>snowball_stem_tokenizer</td>\n",
       "      <td>{'n_neighbors': 3}</td>\n",
       "      <td>0.997158</td>\n",
       "    </tr>\n",
       "    <tr>\n",
       "      <th>4</th>\n",
       "      <td>RandomForestClassifier</td>\n",
       "      <td>lancaster_stem_tokenizer</td>\n",
       "      <td>{'max_depth': 2, 'min_samples_split': 2, 'rand...</td>\n",
       "      <td>0.997158</td>\n",
       "    </tr>\n",
       "    <tr>\n",
       "      <th>5</th>\n",
       "      <td>KNeighborsClassifier</td>\n",
       "      <td>lancaster_stem_tokenizer</td>\n",
       "      <td>{'n_neighbors': 3}</td>\n",
       "      <td>0.997158</td>\n",
       "    </tr>\n",
       "  </tbody>\n",
       "</table>\n",
       "</div>"
      ],
      "text/plain": [
       "                    model                    tokenizer  \\\n",
       "6  RandomForestClassifier      wordnet_lemma_tokenizer   \n",
       "7    KNeighborsClassifier      wordnet_lemma_tokenizer   \n",
       "9    KNeighborsClassifier  wordnet_lemma_pos_tokenizer   \n",
       "8  RandomForestClassifier  wordnet_lemma_pos_tokenizer   \n",
       "0  RandomForestClassifier        porter_stem_tokenizer   \n",
       "1    KNeighborsClassifier        porter_stem_tokenizer   \n",
       "2  RandomForestClassifier      snowball_stem_tokenizer   \n",
       "3    KNeighborsClassifier      snowball_stem_tokenizer   \n",
       "4  RandomForestClassifier     lancaster_stem_tokenizer   \n",
       "5    KNeighborsClassifier     lancaster_stem_tokenizer   \n",
       "\n",
       "                                         best_params  best_acc  \n",
       "6  {'max_depth': 2, 'min_samples_split': 2, 'rand...  0.998579  \n",
       "7                                 {'n_neighbors': 3}  0.998579  \n",
       "9                                 {'n_neighbors': 3}  0.997870  \n",
       "8  {'max_depth': 4, 'min_samples_split': 2, 'rand...  0.997867  \n",
       "0  {'max_depth': 2, 'min_samples_split': 2, 'rand...  0.997158  \n",
       "1                                 {'n_neighbors': 3}  0.997158  \n",
       "2  {'max_depth': 2, 'min_samples_split': 2, 'rand...  0.997158  \n",
       "3                                 {'n_neighbors': 3}  0.997158  \n",
       "4  {'max_depth': 2, 'min_samples_split': 2, 'rand...  0.997158  \n",
       "5                                 {'n_neighbors': 3}  0.997158  "
      ]
     },
     "execution_count": 133,
     "metadata": {},
     "output_type": "execute_result"
    }
   ],
   "source": [
    "results_df = pd.DataFrame(results_with_lda)\n",
    "results_df.sort_values(by=['best_acc'], ascending=False)"
   ]
  },
  {
   "cell_type": "code",
   "execution_count": 138,
   "metadata": {},
   "outputs": [
    {
     "data": {
      "text/plain": [
       "{'model': 'RandomForestClassifier',\n",
       " 'tokenizer': 'wordnet_lemma_tokenizer',\n",
       " 'best_params': {'max_depth': 2, 'min_samples_split': 2, 'random_state': 28},\n",
       " 'best_acc': 0.9985790363696021}"
      ]
     },
     "execution_count": 138,
     "metadata": {},
     "output_type": "execute_result"
    }
   ],
   "source": [
    "results_df.loc[6].to_dict()"
   ]
  },
  {
   "cell_type": "markdown",
   "metadata": {},
   "source": [
    "# Experiment 8\n",
    "\n",
    "Try best models from experiment 7"
   ]
  },
  {
   "cell_type": "markdown",
   "metadata": {},
   "source": [
    "## Model without LDA reducation"
   ]
  },
  {
   "cell_type": "code",
   "execution_count": 174,
   "metadata": {},
   "outputs": [],
   "source": [
    "from sklearn.feature_extraction.text import TfidfVectorizer\n",
    "from sklearn.discriminant_analysis import LinearDiscriminantAnalysis as LDA\n",
    "\n",
    "vectorizer = TfidfVectorizer(tokenizer=snowball_stem_tokenizer, min_df=.01)\n",
    "tf_idf = vectorizer.fit_transform(raw_docs)\n",
    "\n",
    "X = tf_idf.toarray()\n",
    "y = targets"
   ]
  },
  {
   "cell_type": "code",
   "execution_count": 175,
   "metadata": {},
   "outputs": [
    {
     "name": "stdout",
     "output_type": "stream",
     "text": [
      "0.9772696297418036\n"
     ]
    }
   ],
   "source": [
    "from sklearn.ensemble import RandomForestClassifier\n",
    "from sklearn.model_selection import cross_val_score\n",
    "\n",
    "clf = RandomForestClassifier(max_depth=16, min_samples_split=12, random_state=28)\n",
    "\n",
    "cv_score = cross_val_score(clf, X, y, cv=5).mean()\n",
    "print(cv_score)"
   ]
  },
  {
   "cell_type": "code",
   "execution_count": 161,
   "metadata": {},
   "outputs": [
    {
     "data": {
      "text/plain": [
       "RandomForestClassifier(max_depth=16, min_samples_split=12, random_state=28)"
      ]
     },
     "execution_count": 161,
     "metadata": {},
     "output_type": "execute_result"
    }
   ],
   "source": [
    "clf.fit(X,y)"
   ]
  },
  {
   "cell_type": "code",
   "execution_count": 163,
   "metadata": {},
   "outputs": [
    {
     "data": {
      "text/plain": [
       "array(['business'], dtype=object)"
      ]
     },
     "execution_count": 163,
     "metadata": {},
     "output_type": "execute_result"
    }
   ],
   "source": [
    "# After McDonald’s deal, Krispy Kreme seeks other partners\n",
    "# Biz News\n",
    "# https://www.foodbusinessnews.net/articles/22655-after-mcdonalds-deal-krispy-kreme-seeks-other-partners\n",
    "\n",
    "unseen_X = \"\"\"\n",
    "Executives of Krispy Kreme, Inc. expect partnerships, such as a recent one with McDonald’s, and international expansion to keep increasing global points of access, which reflect all locations where the company’s fresh donuts and cookies can be purchased.\n",
    "\n",
    "Charlotte-based Krispy Kreme in October said its donuts will be available in six-packs or individually at nine McDonald’s restaurants in Louisville, Ky., and surrounding areas.\n",
    "\n",
    "“Obviously, this is a small test to partner with a global company, but we think this represents the type of opportunity that shows why we remain very confident in our long-term goal of achieving more than 50,000 points of access globally,” said Michael J. Tattersfield, president and chief executive officer, in a Nov. 15 earnings call to discuss third-quarter financial results. “We believe that strong global partners could be a great fit to significantly grow our DFD (delivered-fresh-daily) business. We continue to look for new partners and channels across the globe as we build out our hub-and-spoke model to increase access to customers, and we look forward to updating you on this journey.”\n",
    "\n",
    "Joshua Charlesworth, chief operating officer and chief financial officer, added, “I mean, we do have clearly excess capacity across the US to build out the DFD door network, whether it’s Walmart, McDonald’s or others.”\n",
    "\n",
    "Global points of access in the quarter increased 17% when compared to a year ago. Consumers now have access to Krispy Kreme products in more than 11,700 locations globally. International expansion played a role.\n",
    "\n",
    "“As you know, our goal is to open in at least three new countries per year going forward,” Mr. Tattersfield said. “So far, in 2022, we’ve signed development deals in seven international countries, including announcing Jamaica this morning as well as a recently announced joint venture in France for 2023, which together represent more than 5,000 points of access or nearly 50% of our existing points of access.”\n",
    "\n",
    "A loss attributable to Krispy Kreme was $13.1 million in the quarter, which compared with a loss of $5.7 million in the previous year’s third quarter. A negative impact of $5 million came from impairment charges related to planned shop closures, Mr. Tattersfield said. Adjusted EBITDA slipped 7% to $38.5 million from $41.4 million. Negative impacts came from higher promotional activity through Labor Day (Sept. 5) and increased labor and commodity costs.\n",
    "\n",
    "“But since September, we’ve significantly reduced our promotional activity without any impact on revenue, which has led to significantly improved gross profit trends,” Mr. Tattersfield said.\n",
    "\n",
    "Krispy Kreme began raising prices for the first time this fiscal year in the third quarter.\n",
    "\n",
    "“I would definitely say that was the beginning of a catch-up,” Mr. Charlesworth said. “We certainly didn’t anticipate the level of food inflation in the US or the UK at the beginning of the year as we saw, and we’re pleased with the success of those pricing initiatives. We’ve then taken further pricing in October in both UK and the US. We do find that, in this environment of price increases, we can almost instantaneously increase the pricing on retail, but obviously, we need to work with our partners on DFD. So that does lag a little bit behind.”\n",
    "\n",
    "Third-quarter net revenue increased 10% to $377.5 million from $342.8 million. Foreign currency translation had a negative impact of 3.3% on net revenue because of a strong UD dollar. Organic revenue increased 12%.\n",
    "\n",
    "In the United States and Canada, net revenue in the third quarter increased 12% to $252.6 million from $225.8 million. Adjusted EBITDA increased 10% to $21.9 million. In International, net revenue increased 5.4% to $91.9 million from $87.3 million. Organic revenue grew 16%.\n",
    "\n",
    "“In our international market, all of our international countries, including those in Market Development, had positive organic growth in the third quarter, led by robust performances in Mexico, Australia and Japan,” Mr. Tattersfield said.\n",
    "\n",
    "Adjusted EBITDA in International fell 16% to $18.3 million due to a $2.4 million negative impact from the higher US dollar and a challenging environment in the United Kingdom.\n",
    "\n",
    "In Market Development, which is made up of franchise businesses around the world, net revenue increased 11% to $33 million from $29.7 million driven by a 33% increase in points of access. Adjusted EBITDA increased 15% to $10.4 million.\n",
    "\n",
    "Over the first three quarters, a loss attributable to Krispy Kreme of $12.9 million compared with a loss of $25.8 million in the same time of the previous year. Net revenue increased 11% to $1.13 billion from $1.01 billion.\n",
    "\n",
    "\"\"\"\n",
    "\n",
    "unseen_X = vectorizer.transform([unseen_X]).toarray()\n",
    "clf.predict(unseen_X)"
   ]
  },
  {
   "cell_type": "code",
   "execution_count": 165,
   "metadata": {},
   "outputs": [
    {
     "data": {
      "text/plain": [
       "array(['sport'], dtype=object)"
      ]
     },
     "execution_count": 165,
     "metadata": {},
     "output_type": "execute_result"
    }
   ],
   "source": [
    "# Cristiano Ronaldo: Manchester United forward says he was close to joining rivals City\n",
    "# Sport News\n",
    "# https://www.bbc.com/sport/football/63656472\n",
    "\n",
    "unseen_X = \"\"\"\n",
    "Cristiano Ronaldo says he was close to joining Manchester City before following his \"heart\" by re-joining Manchester United.\n",
    "\n",
    "The Portugal forward made headlines earlier this week after telling Talk TV he felt \"betrayed\" by the club.\n",
    "\n",
    "The first part of the full interview was released on Wednesday in which he gave more detail on his version of events at Old Trafford.\n",
    "\n",
    "\"Honestly, it was close,\" he said of potentially joining City.\n",
    "\n",
    "Ronaldo returned to Old Trafford from Juventus in August 2021 - 11 years after he left the club to join Real Madrid.\n",
    "\n",
    "At the time it was reported he was wanted by City boss Pep Guardiola and, although Ronaldo confirmed the interest, he said he decided to sign for United after speaking with his old manager Sir Alex Ferguson.\n",
    "\n",
    "The 37-year-old added: \"As you know, my history in Manchester United, your heart, you're feeling the way that you did before, makes the difference. And of course, Sir Alex Ferguson.\n",
    "\n",
    "\"I spoke with him. He said to me, 'it's impossible for you to come to Manchester City'. And I say 'OK, boss'.\" \n",
    "\n",
    "Ronaldo, who will miss Portugal's friendly with Nigeria on Thursday because of a stomach bug, criticised the attitude and professionalism of young footballers during the interview, accusing them of \"not respecting\" their older and more experienced team-mates.\n",
    "\n",
    "\"Their hunger [is different],\" he added. \"I think they have things more easily, everything's easy, they don't suffer - and they don't care.\n",
    "\n",
    "\"I don't mean only a few in Manchester United, but all the teams in all leagues in the world, the youngers are not the same of my generation.\n",
    "\n",
    "\"But you cannot blame them, because it's part of the life and the new generation, the new technologies that distract them.\"\n",
    "\"\"\"\n",
    "\n",
    "unseen_X = vectorizer.transform([unseen_X]).toarray()\n",
    "clf.predict(unseen_X)"
   ]
  },
  {
   "cell_type": "markdown",
   "metadata": {},
   "source": [
    "## Model with LDA reducation"
   ]
  },
  {
   "cell_type": "code",
   "execution_count": 145,
   "metadata": {},
   "outputs": [],
   "source": [
    "from sklearn.feature_extraction.text import TfidfVectorizer\n",
    "from sklearn.discriminant_analysis import LinearDiscriminantAnalysis as LDA\n",
    "\n",
    "vectorizer = TfidfVectorizer(tokenizer=wordnet_lemma_tokenizer, min_df=.01)\n",
    "tf_idf = vectorizer.fit_transform(raw_docs)\n",
    "\n",
    "X = tf_idf.toarray()\n",
    "y = targets\n",
    "\n",
    "lda = LDA(n_components=2)\n",
    "X = lda.fit_transform(X, y)"
   ]
  },
  {
   "cell_type": "code",
   "execution_count": 153,
   "metadata": {},
   "outputs": [
    {
     "name": "stdout",
     "output_type": "stream",
     "text": [
      "0.9985790363696021\n"
     ]
    }
   ],
   "source": [
    "from sklearn.ensemble import RandomForestClassifier\n",
    "from sklearn.model_selection import cross_val_score\n",
    "\n",
    "clf = RandomForestClassifier(max_depth=2, min_samples_split=2, random_state=28)\n",
    "\n",
    "cv_score = cross_val_score(clf, X, y, cv=5).mean()\n",
    "print(cv_score)"
   ]
  },
  {
   "cell_type": "code",
   "execution_count": 154,
   "metadata": {},
   "outputs": [
    {
     "data": {
      "text/plain": [
       "RandomForestClassifier(max_depth=2, random_state=28)"
      ]
     },
     "execution_count": 154,
     "metadata": {},
     "output_type": "execute_result"
    }
   ],
   "source": [
    "clf.fit(X,y)"
   ]
  },
  {
   "cell_type": "code",
   "execution_count": 155,
   "metadata": {},
   "outputs": [
    {
     "data": {
      "text/plain": [
       "array(['technology'], dtype=object)"
      ]
     },
     "execution_count": 155,
     "metadata": {},
     "output_type": "execute_result"
    }
   ],
   "source": [
    "# After McDonald’s deal, Krispy Kreme seeks other partners\n",
    "# Biz News\n",
    "# https://www.foodbusinessnews.net/articles/22655-after-mcdonalds-deal-krispy-kreme-seeks-other-partners\n",
    "\n",
    "unseen_X = \"\"\"\n",
    "Executives of Krispy Kreme, Inc. expect partnerships, such as a recent one with McDonald’s, and international expansion to keep increasing global points of access, which reflect all locations where the company’s fresh donuts and cookies can be purchased.\n",
    "\n",
    "Charlotte-based Krispy Kreme in October said its donuts will be available in six-packs or individually at nine McDonald’s restaurants in Louisville, Ky., and surrounding areas.\n",
    "\n",
    "“Obviously, this is a small test to partner with a global company, but we think this represents the type of opportunity that shows why we remain very confident in our long-term goal of achieving more than 50,000 points of access globally,” said Michael J. Tattersfield, president and chief executive officer, in a Nov. 15 earnings call to discuss third-quarter financial results. “We believe that strong global partners could be a great fit to significantly grow our DFD (delivered-fresh-daily) business. We continue to look for new partners and channels across the globe as we build out our hub-and-spoke model to increase access to customers, and we look forward to updating you on this journey.”\n",
    "\n",
    "Joshua Charlesworth, chief operating officer and chief financial officer, added, “I mean, we do have clearly excess capacity across the US to build out the DFD door network, whether it’s Walmart, McDonald’s or others.”\n",
    "\n",
    "Global points of access in the quarter increased 17% when compared to a year ago. Consumers now have access to Krispy Kreme products in more than 11,700 locations globally. International expansion played a role.\n",
    "\n",
    "“As you know, our goal is to open in at least three new countries per year going forward,” Mr. Tattersfield said. “So far, in 2022, we’ve signed development deals in seven international countries, including announcing Jamaica this morning as well as a recently announced joint venture in France for 2023, which together represent more than 5,000 points of access or nearly 50% of our existing points of access.”\n",
    "\n",
    "A loss attributable to Krispy Kreme was $13.1 million in the quarter, which compared with a loss of $5.7 million in the previous year’s third quarter. A negative impact of $5 million came from impairment charges related to planned shop closures, Mr. Tattersfield said. Adjusted EBITDA slipped 7% to $38.5 million from $41.4 million. Negative impacts came from higher promotional activity through Labor Day (Sept. 5) and increased labor and commodity costs.\n",
    "\n",
    "“But since September, we’ve significantly reduced our promotional activity without any impact on revenue, which has led to significantly improved gross profit trends,” Mr. Tattersfield said.\n",
    "\n",
    "Krispy Kreme began raising prices for the first time this fiscal year in the third quarter.\n",
    "\n",
    "“I would definitely say that was the beginning of a catch-up,” Mr. Charlesworth said. “We certainly didn’t anticipate the level of food inflation in the US or the UK at the beginning of the year as we saw, and we’re pleased with the success of those pricing initiatives. We’ve then taken further pricing in October in both UK and the US. We do find that, in this environment of price increases, we can almost instantaneously increase the pricing on retail, but obviously, we need to work with our partners on DFD. So that does lag a little bit behind.”\n",
    "\n",
    "Third-quarter net revenue increased 10% to $377.5 million from $342.8 million. Foreign currency translation had a negative impact of 3.3% on net revenue because of a strong UD dollar. Organic revenue increased 12%.\n",
    "\n",
    "In the United States and Canada, net revenue in the third quarter increased 12% to $252.6 million from $225.8 million. Adjusted EBITDA increased 10% to $21.9 million. In International, net revenue increased 5.4% to $91.9 million from $87.3 million. Organic revenue grew 16%.\n",
    "\n",
    "“In our international market, all of our international countries, including those in Market Development, had positive organic growth in the third quarter, led by robust performances in Mexico, Australia and Japan,” Mr. Tattersfield said.\n",
    "\n",
    "Adjusted EBITDA in International fell 16% to $18.3 million due to a $2.4 million negative impact from the higher US dollar and a challenging environment in the United Kingdom.\n",
    "\n",
    "In Market Development, which is made up of franchise businesses around the world, net revenue increased 11% to $33 million from $29.7 million driven by a 33% increase in points of access. Adjusted EBITDA increased 15% to $10.4 million.\n",
    "\n",
    "Over the first three quarters, a loss attributable to Krispy Kreme of $12.9 million compared with a loss of $25.8 million in the same time of the previous year. Net revenue increased 11% to $1.13 billion from $1.01 billion.\n",
    "\n",
    "\"\"\"\n",
    "\n",
    "unseen_X = vectorizer.transform([unseen_X]).toarray()\n",
    "unseen_X = lda.transform(unseen_X)\n",
    "clf.predict(unseen_X)"
   ]
  },
  {
   "cell_type": "code",
   "execution_count": 156,
   "metadata": {},
   "outputs": [
    {
     "data": {
      "text/plain": [
       "array(['sport'], dtype=object)"
      ]
     },
     "execution_count": 156,
     "metadata": {},
     "output_type": "execute_result"
    }
   ],
   "source": [
    "# Cristiano Ronaldo: Manchester United forward says he was close to joining rivals City\n",
    "# Sport News\n",
    "# https://www.bbc.com/sport/football/63656472\n",
    "\n",
    "unseen_X = \"\"\"\n",
    "Cristiano Ronaldo says he was close to joining Manchester City before following his \"heart\" by re-joining Manchester United.\n",
    "\n",
    "The Portugal forward made headlines earlier this week after telling Talk TV he felt \"betrayed\" by the club.\n",
    "\n",
    "The first part of the full interview was released on Wednesday in which he gave more detail on his version of events at Old Trafford.\n",
    "\n",
    "\"Honestly, it was close,\" he said of potentially joining City.\n",
    "\n",
    "Ronaldo returned to Old Trafford from Juventus in August 2021 - 11 years after he left the club to join Real Madrid.\n",
    "\n",
    "At the time it was reported he was wanted by City boss Pep Guardiola and, although Ronaldo confirmed the interest, he said he decided to sign for United after speaking with his old manager Sir Alex Ferguson.\n",
    "\n",
    "The 37-year-old added: \"As you know, my history in Manchester United, your heart, you're feeling the way that you did before, makes the difference. And of course, Sir Alex Ferguson.\n",
    "\n",
    "\"I spoke with him. He said to me, 'it's impossible for you to come to Manchester City'. And I say 'OK, boss'.\" \n",
    "\n",
    "Ronaldo, who will miss Portugal's friendly with Nigeria on Thursday because of a stomach bug, criticised the attitude and professionalism of young footballers during the interview, accusing them of \"not respecting\" their older and more experienced team-mates.\n",
    "\n",
    "\"Their hunger [is different],\" he added. \"I think they have things more easily, everything's easy, they don't suffer - and they don't care.\n",
    "\n",
    "\"I don't mean only a few in Manchester United, but all the teams in all leagues in the world, the youngers are not the same of my generation.\n",
    "\n",
    "\"But you cannot blame them, because it's part of the life and the new generation, the new technologies that distract them.\"\n",
    "\"\"\"\n",
    "\n",
    "unseen_X = vectorizer.transform([unseen_X]).toarray()\n",
    "unseen_X = lda.transform(unseen_X)\n",
    "clf.predict(unseen_X)"
   ]
  },
  {
   "cell_type": "markdown",
   "metadata": {},
   "source": [
    "# Experiment 9"
   ]
  },
  {
   "cell_type": "code",
   "execution_count": 20,
   "metadata": {},
   "outputs": [],
   "source": [
    "from sklearn.feature_extraction.text import TfidfVectorizer\n",
    "from sklearn.discriminant_analysis import LinearDiscriminantAnalysis as LDA\n",
    "\n",
    "from sklearn.neighbors import KNeighborsClassifier\n",
    "from sklearn.ensemble import RandomForestClassifier\n",
    "from sklearn.linear_model import LogisticRegression\n",
    "\n",
    "from sklearn.model_selection import train_test_split\n",
    "from sklearn.model_selection import GridSearchCV\n",
    "from sklearn.metrics import accuracy_score\n",
    "from sklearn.metrics import f1_score"
   ]
  },
  {
   "cell_type": "code",
   "execution_count": 8,
   "metadata": {},
   "outputs": [
    {
     "name": "stdout",
     "output_type": "stream",
     "text": [
      "Vectorizing with word_tokenizer\n",
      "Vectorizing with porter_stem_tokenizer\n",
      "Vectorizing with snowball_stem_tokenizer\n",
      "Vectorizing with lancaster_stem_tokenizer\n",
      "Vectorizing with wordnet_lemma_tokenizer\n",
      "Vectorizing with wordnet_lemma_pos_tokenizer\n",
      "Vectorizing with word_tokenizer\n",
      "Vectorizing with porter_stem_tokenizer\n",
      "Vectorizing with snowball_stem_tokenizer\n",
      "Vectorizing with lancaster_stem_tokenizer\n",
      "Vectorizing with wordnet_lemma_tokenizer\n",
      "Vectorizing with wordnet_lemma_pos_tokenizer\n"
     ]
    }
   ],
   "source": [
    "### Code Cell 3.2.3.2 ###\n",
    "\n",
    "contents_X = dict()\n",
    "\n",
    "for tokenizer in tokenizers:\n",
    "    print(f'Vectorizing with {tokenizer.__name__}')\n",
    "    vectorizer = TfidfVectorizer(tokenizer=tokenizer, min_df=0.01)\n",
    "    term_weighted = vectorizer.fit_transform(contents)\n",
    "    contents_X[tokenizer.__name__] = term_weighted.toarray()\n",
    "\n",
    "### Code Cell 3.2.3.2 ###\n",
    "\n",
    "contents_with_title_X = dict()\n",
    "\n",
    "for tokenizer in tokenizers:\n",
    "    print(f'Vectorizing with {tokenizer.__name__}')\n",
    "    vectorizer = TfidfVectorizer(tokenizer=tokenizer, min_df=0.01)\n",
    "    term_weighted = vectorizer.fit_transform(contents_with_title)\n",
    "    contents_with_title_X[tokenizer.__name__] = term_weighted.toarray()\n"
   ]
  },
  {
   "cell_type": "code",
   "execution_count": 9,
   "metadata": {},
   "outputs": [],
   "source": [
    "contents_with_title_X_train = dict()\n",
    "contents_with_title_X_test = dict()\n",
    "contents_with_title_y_train = dict()\n",
    "contents_with_title_y_test = dict()\n",
    "\n",
    "y = targets\n",
    "\n",
    "for tokenizer_name, X in contents_with_title_X.items():\n",
    "    X_train, X_test, y_train, y_test = train_test_split(X, y,\n",
    "        random_state=50, test_size=.33, stratify=y)\n",
    "    contents_with_title_X_train[tokenizer_name] = X_train\n",
    "    contents_with_title_X_test[tokenizer_name] = X_test\n",
    "    contents_with_title_y_train[tokenizer_name] = y_train\n",
    "    contents_with_title_y_test[tokenizer_name] = y_test\n"
   ]
  },
  {
   "cell_type": "code",
   "execution_count": 52,
   "metadata": {},
   "outputs": [],
   "source": [
    "### Code Cell 3.3.1 ###\n",
    "\n",
    "models = [\n",
    "    # {\n",
    "    #     \"model\": KNeighborsClassifier(),\n",
    "    #     \"params\": {'n_neighbors': list(range(1, 16))}\n",
    "    # },\n",
    "    {\n",
    "        \"model\": RandomForestClassifier(),\n",
    "        \"params\": {\n",
    "            \"n_estimators\": list(range(25, 201, 25)),\n",
    "            \"min_samples_split\": list(range(5, 26, 5)),\n",
    "            \"random_state\": [28]\n",
    "        }\n",
    "    },\n",
    "]\n"
   ]
  },
  {
   "cell_type": "code",
   "execution_count": 51,
   "metadata": {},
   "outputs": [
    {
     "data": {
      "text/plain": [
       "[5, 10, 15, 20, 25]"
      ]
     },
     "execution_count": 51,
     "metadata": {},
     "output_type": "execute_result"
    }
   ],
   "source": [
    "list(range(5, 26, 5))"
   ]
  },
  {
   "cell_type": "code",
   "execution_count": 53,
   "metadata": {},
   "outputs": [
    {
     "name": "stdout",
     "output_type": "stream",
     "text": [
      "Fitting 5 folds for each of 40 candidates, totalling 200 fits\n",
      "Fitting 5 folds for each of 40 candidates, totalling 200 fits\n",
      "Fitting 5 folds for each of 40 candidates, totalling 200 fits\n",
      "Fitting 5 folds for each of 40 candidates, totalling 200 fits\n",
      "Fitting 5 folds for each of 40 candidates, totalling 200 fits\n",
      "Fitting 5 folds for each of 40 candidates, totalling 200 fits\n"
     ]
    }
   ],
   "source": [
    "results = {\n",
    "    \"model\": [],\n",
    "    \"tokenizer\": [],\n",
    "    \"best_tuning_params\": [],\n",
    "    \"best_tuning_acc\": [],\n",
    "    \"accuracy\":[],\n",
    "    \"f1_score\":[],\n",
    "}\n",
    "\n",
    "for tokenizer_name in contents_X:\n",
    "\n",
    "    X_train = contents_with_title_X_train[tokenizer_name]\n",
    "    X_test = contents_with_title_X_test[tokenizer_name]\n",
    "    y_train = contents_with_title_y_train[tokenizer_name]\n",
    "    y_test = contents_with_title_y_test[tokenizer_name]\n",
    "\n",
    "    for model in models:\n",
    "\n",
    "        # Search for best set of parameters, using 5-fold cross validation\n",
    "        clf = GridSearchCV(model['model'], model['params'], cv=5, n_jobs=-1, verbose=1)\n",
    "        result = clf.fit(X_train, y_train)\n",
    "        results['model'].append(type(model['model']).__name__)\n",
    "        results['tokenizer'].append(tokenizer_name)\n",
    "        results['best_tuning_acc'].append(result.best_score_)\n",
    "        results['best_tuning_params'].append(result.best_params_)\n",
    "\n",
    "        # Test model with best set of parameters from GridSearchCV\n",
    "        model = model['model']\n",
    "        model.set_params(**result.best_params_)\n",
    "        model.fit(X_train, y_train)\n",
    "        y_pred = model.predict(X_test)\n",
    "        results['accuracy'].append(accuracy_score(y_test, y_pred))\n",
    "        results['f1_score'].append(f1_score(y_test, y_pred, average='weighted'))\n",
    "        "
   ]
  },
  {
   "cell_type": "code",
   "execution_count": 54,
   "metadata": {},
   "outputs": [
    {
     "data": {
      "text/html": [
       "<div>\n",
       "<style scoped>\n",
       "    .dataframe tbody tr th:only-of-type {\n",
       "        vertical-align: middle;\n",
       "    }\n",
       "\n",
       "    .dataframe tbody tr th {\n",
       "        vertical-align: top;\n",
       "    }\n",
       "\n",
       "    .dataframe thead th {\n",
       "        text-align: right;\n",
       "    }\n",
       "</style>\n",
       "<table border=\"1\" class=\"dataframe\">\n",
       "  <thead>\n",
       "    <tr style=\"text-align: right;\">\n",
       "      <th></th>\n",
       "      <th>model</th>\n",
       "      <th>tokenizer</th>\n",
       "      <th>best_tuning_params</th>\n",
       "      <th>best_tuning_acc</th>\n",
       "      <th>accuracy</th>\n",
       "      <th>f1_score</th>\n",
       "    </tr>\n",
       "  </thead>\n",
       "  <tbody>\n",
       "    <tr>\n",
       "      <th>0</th>\n",
       "      <td>RandomForestClassifier</td>\n",
       "      <td>word_tokenizer</td>\n",
       "      <td>{'min_samples_split': 5, 'n_estimators': 175, ...</td>\n",
       "      <td>0.974564</td>\n",
       "      <td>0.969892</td>\n",
       "      <td>0.969803</td>\n",
       "    </tr>\n",
       "    <tr>\n",
       "      <th>1</th>\n",
       "      <td>RandomForestClassifier</td>\n",
       "      <td>porter_stem_tokenizer</td>\n",
       "      <td>{'min_samples_split': 25, 'n_estimators': 75, ...</td>\n",
       "      <td>0.973511</td>\n",
       "      <td>0.974194</td>\n",
       "      <td>0.974183</td>\n",
       "    </tr>\n",
       "    <tr>\n",
       "      <th>2</th>\n",
       "      <td>RandomForestClassifier</td>\n",
       "      <td>snowball_stem_tokenizer</td>\n",
       "      <td>{'min_samples_split': 10, 'n_estimators': 75, ...</td>\n",
       "      <td>0.971384</td>\n",
       "      <td>0.976344</td>\n",
       "      <td>0.976341</td>\n",
       "    </tr>\n",
       "    <tr>\n",
       "      <th>3</th>\n",
       "      <td>RandomForestClassifier</td>\n",
       "      <td>lancaster_stem_tokenizer</td>\n",
       "      <td>{'min_samples_split': 15, 'n_estimators': 150,...</td>\n",
       "      <td>0.975628</td>\n",
       "      <td>0.974194</td>\n",
       "      <td>0.974145</td>\n",
       "    </tr>\n",
       "    <tr>\n",
       "      <th>4</th>\n",
       "      <td>RandomForestClassifier</td>\n",
       "      <td>wordnet_lemma_tokenizer</td>\n",
       "      <td>{'min_samples_split': 20, 'n_estimators': 175,...</td>\n",
       "      <td>0.969256</td>\n",
       "      <td>0.972043</td>\n",
       "      <td>0.972004</td>\n",
       "    </tr>\n",
       "    <tr>\n",
       "      <th>5</th>\n",
       "      <td>RandomForestClassifier</td>\n",
       "      <td>wordnet_lemma_pos_tokenizer</td>\n",
       "      <td>{'min_samples_split': 5, 'n_estimators': 175, ...</td>\n",
       "      <td>0.970325</td>\n",
       "      <td>0.969892</td>\n",
       "      <td>0.969818</td>\n",
       "    </tr>\n",
       "  </tbody>\n",
       "</table>\n",
       "</div>"
      ],
      "text/plain": [
       "                    model                    tokenizer  \\\n",
       "0  RandomForestClassifier               word_tokenizer   \n",
       "1  RandomForestClassifier        porter_stem_tokenizer   \n",
       "2  RandomForestClassifier      snowball_stem_tokenizer   \n",
       "3  RandomForestClassifier     lancaster_stem_tokenizer   \n",
       "4  RandomForestClassifier      wordnet_lemma_tokenizer   \n",
       "5  RandomForestClassifier  wordnet_lemma_pos_tokenizer   \n",
       "\n",
       "                                  best_tuning_params  best_tuning_acc  \\\n",
       "0  {'min_samples_split': 5, 'n_estimators': 175, ...         0.974564   \n",
       "1  {'min_samples_split': 25, 'n_estimators': 75, ...         0.973511   \n",
       "2  {'min_samples_split': 10, 'n_estimators': 75, ...         0.971384   \n",
       "3  {'min_samples_split': 15, 'n_estimators': 150,...         0.975628   \n",
       "4  {'min_samples_split': 20, 'n_estimators': 175,...         0.969256   \n",
       "5  {'min_samples_split': 5, 'n_estimators': 175, ...         0.970325   \n",
       "\n",
       "   accuracy  f1_score  \n",
       "0  0.969892  0.969803  \n",
       "1  0.974194  0.974183  \n",
       "2  0.976344  0.976341  \n",
       "3  0.974194  0.974145  \n",
       "4  0.972043  0.972004  \n",
       "5  0.969892  0.969818  "
      ]
     },
     "execution_count": 54,
     "metadata": {},
     "output_type": "execute_result"
    }
   ],
   "source": [
    "results_df = pd.DataFrame(results)\n",
    "results_df"
   ]
  },
  {
   "cell_type": "code",
   "execution_count": 55,
   "metadata": {},
   "outputs": [
    {
     "name": "stdout",
     "output_type": "stream",
     "text": [
      "Fitting 5 folds for each of 10 candidates, totalling 50 fits\n",
      "Fitting 5 folds for each of 10 candidates, totalling 50 fits\n",
      "Fitting 5 folds for each of 10 candidates, totalling 50 fits\n",
      "Fitting 5 folds for each of 10 candidates, totalling 50 fits\n",
      "Fitting 5 folds for each of 10 candidates, totalling 50 fits\n",
      "Fitting 5 folds for each of 10 candidates, totalling 50 fits\n"
     ]
    }
   ],
   "source": [
    "from sklearn.model_selection import RandomizedSearchCV\n",
    "\n",
    "results = {\n",
    "    \"model\": [],\n",
    "    \"tokenizer\": [],\n",
    "    \"best_tuning_params\": [],\n",
    "    \"best_tuning_acc\": [],\n",
    "    \"accuracy\":[],\n",
    "    \"f1_score\":[],\n",
    "}\n",
    "\n",
    "for tokenizer_name in contents_X:\n",
    "\n",
    "    X_train = contents_with_title_X_train[tokenizer_name]\n",
    "    X_test = contents_with_title_X_test[tokenizer_name]\n",
    "    y_train = contents_with_title_y_train[tokenizer_name]\n",
    "    y_test = contents_with_title_y_test[tokenizer_name]\n",
    "\n",
    "    for model in models:\n",
    "\n",
    "        # Search for best set of parameters, using 5-fold cross validation\n",
    "        clf = RandomizedSearchCV(model['model'], model['params'], cv=5, n_jobs=-1, verbose=1, random_state=28)\n",
    "        result = clf.fit(X_train, y_train)\n",
    "        results['model'].append(type(model['model']).__name__)\n",
    "        results['tokenizer'].append(tokenizer_name)\n",
    "        results['best_tuning_acc'].append(result.best_score_)\n",
    "        results['best_tuning_params'].append(result.best_params_)\n",
    "\n",
    "        # Test model with best set of parameters from GridSearchCV\n",
    "        model = model['model']\n",
    "        model.set_params(**result.best_params_)\n",
    "        model.fit(X_train, y_train)\n",
    "        y_pred = model.predict(X_test)\n",
    "        results['accuracy'].append(accuracy_score(y_test, y_pred))\n",
    "        results['f1_score'].append(f1_score(y_test, y_pred, average='weighted'))\n",
    "        "
   ]
  },
  {
   "cell_type": "code",
   "execution_count": 56,
   "metadata": {},
   "outputs": [
    {
     "data": {
      "text/html": [
       "<div>\n",
       "<style scoped>\n",
       "    .dataframe tbody tr th:only-of-type {\n",
       "        vertical-align: middle;\n",
       "    }\n",
       "\n",
       "    .dataframe tbody tr th {\n",
       "        vertical-align: top;\n",
       "    }\n",
       "\n",
       "    .dataframe thead th {\n",
       "        text-align: right;\n",
       "    }\n",
       "</style>\n",
       "<table border=\"1\" class=\"dataframe\">\n",
       "  <thead>\n",
       "    <tr style=\"text-align: right;\">\n",
       "      <th></th>\n",
       "      <th>model</th>\n",
       "      <th>tokenizer</th>\n",
       "      <th>best_tuning_params</th>\n",
       "      <th>best_tuning_acc</th>\n",
       "      <th>accuracy</th>\n",
       "      <th>f1_score</th>\n",
       "    </tr>\n",
       "  </thead>\n",
       "  <tbody>\n",
       "    <tr>\n",
       "      <th>0</th>\n",
       "      <td>RandomForestClassifier</td>\n",
       "      <td>word_tokenizer</td>\n",
       "      <td>{'random_state': 28, 'n_estimators': 150, 'min...</td>\n",
       "      <td>0.973506</td>\n",
       "      <td>0.974194</td>\n",
       "      <td>0.974145</td>\n",
       "    </tr>\n",
       "    <tr>\n",
       "      <th>1</th>\n",
       "      <td>RandomForestClassifier</td>\n",
       "      <td>porter_stem_tokenizer</td>\n",
       "      <td>{'random_state': 28, 'n_estimators': 75, 'min_...</td>\n",
       "      <td>0.973511</td>\n",
       "      <td>0.974194</td>\n",
       "      <td>0.974183</td>\n",
       "    </tr>\n",
       "    <tr>\n",
       "      <th>2</th>\n",
       "      <td>RandomForestClassifier</td>\n",
       "      <td>snowball_stem_tokenizer</td>\n",
       "      <td>{'random_state': 28, 'n_estimators': 175, 'min...</td>\n",
       "      <td>0.971378</td>\n",
       "      <td>0.972043</td>\n",
       "      <td>0.971987</td>\n",
       "    </tr>\n",
       "    <tr>\n",
       "      <th>3</th>\n",
       "      <td>RandomForestClassifier</td>\n",
       "      <td>lancaster_stem_tokenizer</td>\n",
       "      <td>{'random_state': 28, 'n_estimators': 100, 'min...</td>\n",
       "      <td>0.975622</td>\n",
       "      <td>0.974194</td>\n",
       "      <td>0.974145</td>\n",
       "    </tr>\n",
       "    <tr>\n",
       "      <th>4</th>\n",
       "      <td>RandomForestClassifier</td>\n",
       "      <td>wordnet_lemma_tokenizer</td>\n",
       "      <td>{'random_state': 28, 'n_estimators': 100, 'min...</td>\n",
       "      <td>0.967134</td>\n",
       "      <td>0.965591</td>\n",
       "      <td>0.965435</td>\n",
       "    </tr>\n",
       "    <tr>\n",
       "      <th>5</th>\n",
       "      <td>RandomForestClassifier</td>\n",
       "      <td>wordnet_lemma_pos_tokenizer</td>\n",
       "      <td>{'random_state': 28, 'n_estimators': 200, 'min...</td>\n",
       "      <td>0.970314</td>\n",
       "      <td>0.969892</td>\n",
       "      <td>0.969818</td>\n",
       "    </tr>\n",
       "  </tbody>\n",
       "</table>\n",
       "</div>"
      ],
      "text/plain": [
       "                    model                    tokenizer  \\\n",
       "0  RandomForestClassifier               word_tokenizer   \n",
       "1  RandomForestClassifier        porter_stem_tokenizer   \n",
       "2  RandomForestClassifier      snowball_stem_tokenizer   \n",
       "3  RandomForestClassifier     lancaster_stem_tokenizer   \n",
       "4  RandomForestClassifier      wordnet_lemma_tokenizer   \n",
       "5  RandomForestClassifier  wordnet_lemma_pos_tokenizer   \n",
       "\n",
       "                                  best_tuning_params  best_tuning_acc  \\\n",
       "0  {'random_state': 28, 'n_estimators': 150, 'min...         0.973506   \n",
       "1  {'random_state': 28, 'n_estimators': 75, 'min_...         0.973511   \n",
       "2  {'random_state': 28, 'n_estimators': 175, 'min...         0.971378   \n",
       "3  {'random_state': 28, 'n_estimators': 100, 'min...         0.975622   \n",
       "4  {'random_state': 28, 'n_estimators': 100, 'min...         0.967134   \n",
       "5  {'random_state': 28, 'n_estimators': 200, 'min...         0.970314   \n",
       "\n",
       "   accuracy  f1_score  \n",
       "0  0.974194  0.974145  \n",
       "1  0.974194  0.974183  \n",
       "2  0.972043  0.971987  \n",
       "3  0.974194  0.974145  \n",
       "4  0.965591  0.965435  \n",
       "5  0.969892  0.969818  "
      ]
     },
     "execution_count": 56,
     "metadata": {},
     "output_type": "execute_result"
    }
   ],
   "source": [
    "results_df = pd.DataFrame(results)\n",
    "results_df"
   ]
  },
  {
   "cell_type": "code",
   "execution_count": 58,
   "metadata": {},
   "outputs": [
    {
     "data": {
      "text/plain": [
       "{'random_state': 28, 'n_estimators': 150, 'min_samples_split': 25}"
      ]
     },
     "execution_count": 58,
     "metadata": {},
     "output_type": "execute_result"
    }
   ],
   "source": [
    "results_df['best_tuning_params'][0]"
   ]
  },
  {
   "cell_type": "code",
   "execution_count": null,
   "metadata": {},
   "outputs": [],
   "source": []
  },
  {
   "cell_type": "code",
   "execution_count": 34,
   "metadata": {},
   "outputs": [
    {
     "data": {
      "text/plain": [
       "0                 KNeighborsClassifier word_tokenizer\n",
       "1          KNeighborsClassifier porter_stem_tokenizer\n",
       "2        KNeighborsClassifier snowball_stem_tokenizer\n",
       "3       KNeighborsClassifier lancaster_stem_tokenizer\n",
       "4        KNeighborsClassifier wordnet_lemma_tokenizer\n",
       "5    KNeighborsClassifier wordnet_lemma_pos_tokenizer\n",
       "dtype: object"
      ]
     },
     "execution_count": 34,
     "metadata": {},
     "output_type": "execute_result"
    }
   ],
   "source": [
    "results_df['model'] + ' ' + results_df['tokenizer']"
   ]
  },
  {
   "cell_type": "code",
   "execution_count": 48,
   "metadata": {},
   "outputs": [
    {
     "data": {
      "text/html": [
       "<div>\n",
       "<style scoped>\n",
       "    .dataframe tbody tr th:only-of-type {\n",
       "        vertical-align: middle;\n",
       "    }\n",
       "\n",
       "    .dataframe tbody tr th {\n",
       "        vertical-align: top;\n",
       "    }\n",
       "\n",
       "    .dataframe thead th {\n",
       "        text-align: right;\n",
       "    }\n",
       "</style>\n",
       "<table border=\"1\" class=\"dataframe\">\n",
       "  <thead>\n",
       "    <tr style=\"text-align: right;\">\n",
       "      <th></th>\n",
       "      <th>accuracy</th>\n",
       "      <th>f1_score</th>\n",
       "    </tr>\n",
       "  </thead>\n",
       "  <tbody>\n",
       "    <tr>\n",
       "      <th>KNeighborsClassifier with word_tokenizer</th>\n",
       "      <td>0.965591</td>\n",
       "      <td>0.965567</td>\n",
       "    </tr>\n",
       "    <tr>\n",
       "      <th>KNeighborsClassifier with porter_stem_tokenizer</th>\n",
       "      <td>0.959140</td>\n",
       "      <td>0.959145</td>\n",
       "    </tr>\n",
       "    <tr>\n",
       "      <th>KNeighborsClassifier with snowball_stem_tokenizer</th>\n",
       "      <td>0.961290</td>\n",
       "      <td>0.961290</td>\n",
       "    </tr>\n",
       "    <tr>\n",
       "      <th>KNeighborsClassifier with lancaster_stem_tokenizer</th>\n",
       "      <td>0.961290</td>\n",
       "      <td>0.961387</td>\n",
       "    </tr>\n",
       "    <tr>\n",
       "      <th>KNeighborsClassifier with wordnet_lemma_tokenizer</th>\n",
       "      <td>0.969892</td>\n",
       "      <td>0.969873</td>\n",
       "    </tr>\n",
       "    <tr>\n",
       "      <th>KNeighborsClassifier with wordnet_lemma_pos_tokenizer</th>\n",
       "      <td>0.965591</td>\n",
       "      <td>0.965621</td>\n",
       "    </tr>\n",
       "  </tbody>\n",
       "</table>\n",
       "</div>"
      ],
      "text/plain": [
       "                                                    accuracy  f1_score\n",
       "KNeighborsClassifier with word_tokenizer            0.965591  0.965567\n",
       "KNeighborsClassifier with porter_stem_tokenizer     0.959140  0.959145\n",
       "KNeighborsClassifier with snowball_stem_tokenizer   0.961290  0.961290\n",
       "KNeighborsClassifier with lancaster_stem_tokenizer  0.961290  0.961387\n",
       "KNeighborsClassifier with wordnet_lemma_tokenizer   0.969892  0.969873\n",
       "KNeighborsClassifier with wordnet_lemma_pos_tok...  0.965591  0.965621"
      ]
     },
     "execution_count": 48,
     "metadata": {},
     "output_type": "execute_result"
    }
   ],
   "source": [
    "df = results_df[['accuracy','f1_score']]\n",
    "df.index = results_df['model'] + ' with ' + results_df['tokenizer']\n",
    "df"
   ]
  },
  {
   "cell_type": "code",
   "execution_count": 49,
   "metadata": {},
   "outputs": [
    {
     "data": {
      "image/png": "[encoded data removed]",
      "text/plain": [
       "<Figure size 432x288 with 1 Axes>"
      ]
     },
     "metadata": {
      "needs_background": "light"
     },
     "output_type": "display_data"
    }
   ],
   "source": [
    "df.plot.barh()\n",
    "plt.xlim([.9, 1])\n",
    "plt.show()"
   ]
  },
  {
   "cell_type": "code",
   "execution_count": null,
   "metadata": {},
   "outputs": [],
   "source": []
  }
 ],
 "metadata": {
  "kernelspec": {
   "display_name": "Python 3.9.7 ('base')",
   "language": "python",
   "name": "python3"
  },
  "language_info": {
   "codemirror_mode": {
    "name": "ipython",
    "version": 3
   },
   "file_extension": ".py",
   "mimetype": "text/x-python",
   "name": "python",
   "nbconvert_exporter": "python",
   "pygments_lexer": "ipython3",
   "version": "3.9.7"
  },
  "orig_nbformat": 4,
  "vscode": {
   "interpreter": {
    "hash": "2fe7d652243bcdb6cde2e69617dc664bf14361ea2de14b139d2fec55ec2ae7e2"
   }
  }
 },
 "nbformat": 4,
 "nbformat_minor": 2
}
